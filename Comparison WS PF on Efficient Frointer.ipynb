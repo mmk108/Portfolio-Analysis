{
 "cells": [
  {
   "cell_type": "code",
   "execution_count": 18,
   "metadata": {},
   "outputs": [],
   "source": [
    "import numpy as np\n",
    "import pandas as pd\n",
    "import matplotlib.pyplot as plt\n",
    "%matplotlib inline"
   ]
  },
  {
   "cell_type": "code",
   "execution_count": 19,
   "metadata": {},
   "outputs": [],
   "source": [
    "import pandas_datareader\n",
    "import datetime\n",
    "from pandas_datareader import data as wb\n",
    "from statsmodels.tsa.seasonal import seasonal_decompose"
   ]
  },
  {
   "cell_type": "code",
   "execution_count": 20,
   "metadata": {},
   "outputs": [
    {
     "name": "stdout",
     "output_type": "stream",
     "text": [
      "0.8.1\n"
     ]
    }
   ],
   "source": [
    "print(pandas_datareader.__version__)"
   ]
  },
  {
   "cell_type": "markdown",
   "metadata": {},
   "source": [
    "# Getting the Data "
   ]
  },
  {
   "cell_type": "code",
   "execution_count": 128,
   "metadata": {},
   "outputs": [],
   "source": [
    "tickers = ['XEF.TO', 'VTINX','EEMV','ACWV', 'XIC.TO','VUSTX', 'ZFL.TO','FXC'] \n",
    "pf = pd.DataFrame()\n",
    "for t in tickers:\n",
    "    pf[t] = wb.DataReader(t, data_source='yahoo', start = '2017-1-1')['Adj Close']\n",
    "\n",
    "\n"
   ]
  },
  {
   "cell_type": "code",
   "execution_count": 129,
   "metadata": {},
   "outputs": [
    {
     "data": {
      "text/html": [
       "<div>\n",
       "<style scoped>\n",
       "    .dataframe tbody tr th:only-of-type {\n",
       "        vertical-align: middle;\n",
       "    }\n",
       "\n",
       "    .dataframe tbody tr th {\n",
       "        vertical-align: top;\n",
       "    }\n",
       "\n",
       "    .dataframe thead th {\n",
       "        text-align: right;\n",
       "    }\n",
       "</style>\n",
       "<table border=\"1\" class=\"dataframe\">\n",
       "  <thead>\n",
       "    <tr style=\"text-align: right;\">\n",
       "      <th></th>\n",
       "      <th>count</th>\n",
       "      <th>mean</th>\n",
       "      <th>std</th>\n",
       "      <th>min</th>\n",
       "      <th>25%</th>\n",
       "      <th>50%</th>\n",
       "      <th>75%</th>\n",
       "      <th>max</th>\n",
       "    </tr>\n",
       "  </thead>\n",
       "  <tbody>\n",
       "    <tr>\n",
       "      <td>XEF.TO</td>\n",
       "      <td>737.0</td>\n",
       "      <td>28.911089</td>\n",
       "      <td>1.502802</td>\n",
       "      <td>24.901621</td>\n",
       "      <td>27.923750</td>\n",
       "      <td>29.330000</td>\n",
       "      <td>30.045574</td>\n",
       "      <td>31.780001</td>\n",
       "    </tr>\n",
       "    <tr>\n",
       "      <td>VTINX</td>\n",
       "      <td>723.0</td>\n",
       "      <td>12.860777</td>\n",
       "      <td>0.542951</td>\n",
       "      <td>11.828728</td>\n",
       "      <td>12.546522</td>\n",
       "      <td>12.779730</td>\n",
       "      <td>13.143850</td>\n",
       "      <td>14.090000</td>\n",
       "    </tr>\n",
       "    <tr>\n",
       "      <td>EEMV</td>\n",
       "      <td>724.0</td>\n",
       "      <td>56.127458</td>\n",
       "      <td>3.292929</td>\n",
       "      <td>46.280823</td>\n",
       "      <td>54.635010</td>\n",
       "      <td>56.790001</td>\n",
       "      <td>58.473510</td>\n",
       "      <td>63.224716</td>\n",
       "    </tr>\n",
       "    <tr>\n",
       "      <td>ACWV</td>\n",
       "      <td>724.0</td>\n",
       "      <td>82.702293</td>\n",
       "      <td>6.771113</td>\n",
       "      <td>68.930138</td>\n",
       "      <td>78.049303</td>\n",
       "      <td>81.910324</td>\n",
       "      <td>87.385323</td>\n",
       "      <td>96.040001</td>\n",
       "    </tr>\n",
       "    <tr>\n",
       "      <td>XIC.TO</td>\n",
       "      <td>737.0</td>\n",
       "      <td>24.212064</td>\n",
       "      <td>1.331331</td>\n",
       "      <td>21.377787</td>\n",
       "      <td>23.005344</td>\n",
       "      <td>24.047182</td>\n",
       "      <td>25.218849</td>\n",
       "      <td>27.350000</td>\n",
       "    </tr>\n",
       "    <tr>\n",
       "      <td>VUSTX</td>\n",
       "      <td>723.0</td>\n",
       "      <td>11.684467</td>\n",
       "      <td>0.845166</td>\n",
       "      <td>10.626479</td>\n",
       "      <td>11.118418</td>\n",
       "      <td>11.450825</td>\n",
       "      <td>11.765093</td>\n",
       "      <td>14.199274</td>\n",
       "    </tr>\n",
       "    <tr>\n",
       "      <td>ZFL.TO</td>\n",
       "      <td>737.0</td>\n",
       "      <td>16.861602</td>\n",
       "      <td>1.001899</td>\n",
       "      <td>15.602981</td>\n",
       "      <td>16.130997</td>\n",
       "      <td>16.465218</td>\n",
       "      <td>17.391327</td>\n",
       "      <td>19.712141</td>\n",
       "    </tr>\n",
       "    <tr>\n",
       "      <td>FXC</td>\n",
       "      <td>724.0</td>\n",
       "      <td>74.893326</td>\n",
       "      <td>1.805715</td>\n",
       "      <td>70.914230</td>\n",
       "      <td>73.648983</td>\n",
       "      <td>74.570805</td>\n",
       "      <td>75.854403</td>\n",
       "      <td>80.450493</td>\n",
       "    </tr>\n",
       "  </tbody>\n",
       "</table>\n",
       "</div>"
      ],
      "text/plain": [
       "        count       mean       std        min        25%        50%  \\\n",
       "XEF.TO  737.0  28.911089  1.502802  24.901621  27.923750  29.330000   \n",
       "VTINX   723.0  12.860777  0.542951  11.828728  12.546522  12.779730   \n",
       "EEMV    724.0  56.127458  3.292929  46.280823  54.635010  56.790001   \n",
       "ACWV    724.0  82.702293  6.771113  68.930138  78.049303  81.910324   \n",
       "XIC.TO  737.0  24.212064  1.331331  21.377787  23.005344  24.047182   \n",
       "VUSTX   723.0  11.684467  0.845166  10.626479  11.118418  11.450825   \n",
       "ZFL.TO  737.0  16.861602  1.001899  15.602981  16.130997  16.465218   \n",
       "FXC     724.0  74.893326  1.805715  70.914230  73.648983  74.570805   \n",
       "\n",
       "              75%        max  \n",
       "XEF.TO  30.045574  31.780001  \n",
       "VTINX   13.143850  14.090000  \n",
       "EEMV    58.473510  63.224716  \n",
       "ACWV    87.385323  96.040001  \n",
       "XIC.TO  25.218849  27.350000  \n",
       "VUSTX   11.765093  14.199274  \n",
       "ZFL.TO  17.391327  19.712141  \n",
       "FXC     75.854403  80.450493  "
      ]
     },
     "execution_count": 129,
     "metadata": {},
     "output_type": "execute_result"
    }
   ],
   "source": [
    "pf.describe().transpose()"
   ]
  },
  {
   "cell_type": "code",
   "execution_count": 130,
   "metadata": {},
   "outputs": [
    {
     "ename": "SyntaxError",
     "evalue": "invalid syntax (<ipython-input-130-ddc195464dde>, line 3)",
     "output_type": "error",
     "traceback": [
      "\u001b[0;36m  File \u001b[0;32m\"<ipython-input-130-ddc195464dde>\"\u001b[0;36m, line \u001b[0;32m3\u001b[0m\n\u001b[0;31m    xef 22\u001b[0m\n\u001b[0m         ^\u001b[0m\n\u001b[0;31mSyntaxError\u001b[0m\u001b[0;31m:\u001b[0m invalid syntax\n"
     ]
    }
   ],
   "source": [
    "#wealth simple account\n",
    "\n",
    "xef 22\n",
    "vtin 22\n",
    "eemv 17\n",
    "acwv 11\n",
    "xic 11\n",
    "vus 5\n",
    "\n",
    "zfl 7\n",
    "qtip 3\n",
    "cad 2\n"
   ]
  },
  {
   "cell_type": "code",
   "execution_count": 132,
   "metadata": {},
   "outputs": [
    {
     "data": {
      "text/html": [
       "<div>\n",
       "<style scoped>\n",
       "    .dataframe tbody tr th:only-of-type {\n",
       "        vertical-align: middle;\n",
       "    }\n",
       "\n",
       "    .dataframe tbody tr th {\n",
       "        vertical-align: top;\n",
       "    }\n",
       "\n",
       "    .dataframe thead th {\n",
       "        text-align: right;\n",
       "    }\n",
       "</style>\n",
       "<table border=\"1\" class=\"dataframe\">\n",
       "  <thead>\n",
       "    <tr style=\"text-align: right;\">\n",
       "      <th></th>\n",
       "      <th>XEF.TO</th>\n",
       "      <th>VTINX</th>\n",
       "      <th>EEMV</th>\n",
       "      <th>ACWV</th>\n",
       "      <th>XIC.TO</th>\n",
       "      <th>VUSTX</th>\n",
       "      <th>ZFL.TO</th>\n",
       "      <th>FXC</th>\n",
       "    </tr>\n",
       "    <tr>\n",
       "      <th>Date</th>\n",
       "      <th></th>\n",
       "      <th></th>\n",
       "      <th></th>\n",
       "      <th></th>\n",
       "      <th></th>\n",
       "      <th></th>\n",
       "      <th></th>\n",
       "      <th></th>\n",
       "    </tr>\n",
       "  </thead>\n",
       "  <tbody>\n",
       "    <tr>\n",
       "      <td>2017-01-03</td>\n",
       "      <td>NaN</td>\n",
       "      <td>NaN</td>\n",
       "      <td>NaN</td>\n",
       "      <td>NaN</td>\n",
       "      <td>NaN</td>\n",
       "      <td>NaN</td>\n",
       "      <td>NaN</td>\n",
       "      <td>NaN</td>\n",
       "    </tr>\n",
       "    <tr>\n",
       "      <td>2017-01-04</td>\n",
       "      <td>0.002246</td>\n",
       "      <td>0.003113</td>\n",
       "      <td>0.010333</td>\n",
       "      <td>0.006572</td>\n",
       "      <td>0.006943</td>\n",
       "      <td>0.003393</td>\n",
       "      <td>0.005737</td>\n",
       "      <td>0.009474</td>\n",
       "    </tr>\n",
       "    <tr>\n",
       "      <td>2017-01-05</td>\n",
       "      <td>0.003731</td>\n",
       "      <td>0.003103</td>\n",
       "      <td>0.013017</td>\n",
       "      <td>0.005308</td>\n",
       "      <td>0.004062</td>\n",
       "      <td>0.014291</td>\n",
       "      <td>0.005136</td>\n",
       "      <td>0.005105</td>\n",
       "    </tr>\n",
       "    <tr>\n",
       "      <td>2017-01-06</td>\n",
       "      <td>-0.003358</td>\n",
       "      <td>-0.002326</td>\n",
       "      <td>-0.007189</td>\n",
       "      <td>-0.000407</td>\n",
       "      <td>-0.004876</td>\n",
       "      <td>-0.009224</td>\n",
       "      <td>-0.006853</td>\n",
       "      <td>0.000536</td>\n",
       "    </tr>\n",
       "    <tr>\n",
       "      <td>2017-01-09</td>\n",
       "      <td>-0.002245</td>\n",
       "      <td>0.000776</td>\n",
       "      <td>-0.002207</td>\n",
       "      <td>-0.002992</td>\n",
       "      <td>-0.006539</td>\n",
       "      <td>0.008389</td>\n",
       "      <td>0.006284</td>\n",
       "      <td>0.000536</td>\n",
       "    </tr>\n",
       "  </tbody>\n",
       "</table>\n",
       "</div>"
      ],
      "text/plain": [
       "              XEF.TO     VTINX      EEMV      ACWV    XIC.TO     VUSTX  \\\n",
       "Date                                                                     \n",
       "2017-01-03       NaN       NaN       NaN       NaN       NaN       NaN   \n",
       "2017-01-04  0.002246  0.003113  0.010333  0.006572  0.006943  0.003393   \n",
       "2017-01-05  0.003731  0.003103  0.013017  0.005308  0.004062  0.014291   \n",
       "2017-01-06 -0.003358 -0.002326 -0.007189 -0.000407 -0.004876 -0.009224   \n",
       "2017-01-09 -0.002245  0.000776 -0.002207 -0.002992 -0.006539  0.008389   \n",
       "\n",
       "              ZFL.TO       FXC  \n",
       "Date                            \n",
       "2017-01-03       NaN       NaN  \n",
       "2017-01-04  0.005737  0.009474  \n",
       "2017-01-05  0.005136  0.005105  \n",
       "2017-01-06 -0.006853  0.000536  \n",
       "2017-01-09  0.006284  0.000536  "
      ]
     },
     "execution_count": 132,
     "metadata": {},
     "output_type": "execute_result"
    }
   ],
   "source": [
    "log_ret = np.log(pf / pf.shift(1))\n",
    "log_ret.head()"
   ]
  },
  {
   "cell_type": "code",
   "execution_count": 133,
   "metadata": {},
   "outputs": [
    {
     "data": {
      "text/html": [
       "<div>\n",
       "<style scoped>\n",
       "    .dataframe tbody tr th:only-of-type {\n",
       "        vertical-align: middle;\n",
       "    }\n",
       "\n",
       "    .dataframe tbody tr th {\n",
       "        vertical-align: top;\n",
       "    }\n",
       "\n",
       "    .dataframe thead th {\n",
       "        text-align: right;\n",
       "    }\n",
       "</style>\n",
       "<table border=\"1\" class=\"dataframe\">\n",
       "  <thead>\n",
       "    <tr style=\"text-align: right;\">\n",
       "      <th></th>\n",
       "      <th>XEF.TO</th>\n",
       "      <th>VTINX</th>\n",
       "      <th>EEMV</th>\n",
       "      <th>ACWV</th>\n",
       "      <th>XIC.TO</th>\n",
       "      <th>VUSTX</th>\n",
       "      <th>ZFL.TO</th>\n",
       "      <th>FXC</th>\n",
       "    </tr>\n",
       "  </thead>\n",
       "  <tbody>\n",
       "    <tr>\n",
       "      <td>XEF.TO</td>\n",
       "      <td>1.000000</td>\n",
       "      <td>0.666396</td>\n",
       "      <td>0.609200</td>\n",
       "      <td>0.672874</td>\n",
       "      <td>0.686427</td>\n",
       "      <td>-0.305699</td>\n",
       "      <td>-0.185520</td>\n",
       "      <td>-0.137480</td>\n",
       "    </tr>\n",
       "    <tr>\n",
       "      <td>VTINX</td>\n",
       "      <td>0.666396</td>\n",
       "      <td>1.000000</td>\n",
       "      <td>0.755727</td>\n",
       "      <td>0.878568</td>\n",
       "      <td>0.698408</td>\n",
       "      <td>0.085110</td>\n",
       "      <td>0.016286</td>\n",
       "      <td>0.387379</td>\n",
       "    </tr>\n",
       "    <tr>\n",
       "      <td>EEMV</td>\n",
       "      <td>0.609200</td>\n",
       "      <td>0.755727</td>\n",
       "      <td>1.000000</td>\n",
       "      <td>0.730026</td>\n",
       "      <td>0.599444</td>\n",
       "      <td>-0.183025</td>\n",
       "      <td>-0.198223</td>\n",
       "      <td>0.417204</td>\n",
       "    </tr>\n",
       "    <tr>\n",
       "      <td>ACWV</td>\n",
       "      <td>0.672874</td>\n",
       "      <td>0.878568</td>\n",
       "      <td>0.730026</td>\n",
       "      <td>1.000000</td>\n",
       "      <td>0.669320</td>\n",
       "      <td>-0.089271</td>\n",
       "      <td>-0.100542</td>\n",
       "      <td>0.343736</td>\n",
       "    </tr>\n",
       "    <tr>\n",
       "      <td>XIC.TO</td>\n",
       "      <td>0.686427</td>\n",
       "      <td>0.698408</td>\n",
       "      <td>0.599444</td>\n",
       "      <td>0.669320</td>\n",
       "      <td>1.000000</td>\n",
       "      <td>-0.245227</td>\n",
       "      <td>-0.231940</td>\n",
       "      <td>0.143280</td>\n",
       "    </tr>\n",
       "    <tr>\n",
       "      <td>VUSTX</td>\n",
       "      <td>-0.305699</td>\n",
       "      <td>0.085110</td>\n",
       "      <td>-0.183025</td>\n",
       "      <td>-0.089271</td>\n",
       "      <td>-0.245227</td>\n",
       "      <td>1.000000</td>\n",
       "      <td>0.770260</td>\n",
       "      <td>0.010402</td>\n",
       "    </tr>\n",
       "    <tr>\n",
       "      <td>ZFL.TO</td>\n",
       "      <td>-0.185520</td>\n",
       "      <td>0.016286</td>\n",
       "      <td>-0.198223</td>\n",
       "      <td>-0.100542</td>\n",
       "      <td>-0.231940</td>\n",
       "      <td>0.770260</td>\n",
       "      <td>1.000000</td>\n",
       "      <td>-0.193565</td>\n",
       "    </tr>\n",
       "    <tr>\n",
       "      <td>FXC</td>\n",
       "      <td>-0.137480</td>\n",
       "      <td>0.387379</td>\n",
       "      <td>0.417204</td>\n",
       "      <td>0.343736</td>\n",
       "      <td>0.143280</td>\n",
       "      <td>0.010402</td>\n",
       "      <td>-0.193565</td>\n",
       "      <td>1.000000</td>\n",
       "    </tr>\n",
       "  </tbody>\n",
       "</table>\n",
       "</div>"
      ],
      "text/plain": [
       "          XEF.TO     VTINX      EEMV      ACWV    XIC.TO     VUSTX    ZFL.TO  \\\n",
       "XEF.TO  1.000000  0.666396  0.609200  0.672874  0.686427 -0.305699 -0.185520   \n",
       "VTINX   0.666396  1.000000  0.755727  0.878568  0.698408  0.085110  0.016286   \n",
       "EEMV    0.609200  0.755727  1.000000  0.730026  0.599444 -0.183025 -0.198223   \n",
       "ACWV    0.672874  0.878568  0.730026  1.000000  0.669320 -0.089271 -0.100542   \n",
       "XIC.TO  0.686427  0.698408  0.599444  0.669320  1.000000 -0.245227 -0.231940   \n",
       "VUSTX  -0.305699  0.085110 -0.183025 -0.089271 -0.245227  1.000000  0.770260   \n",
       "ZFL.TO -0.185520  0.016286 -0.198223 -0.100542 -0.231940  0.770260  1.000000   \n",
       "FXC    -0.137480  0.387379  0.417204  0.343736  0.143280  0.010402 -0.193565   \n",
       "\n",
       "             FXC  \n",
       "XEF.TO -0.137480  \n",
       "VTINX   0.387379  \n",
       "EEMV    0.417204  \n",
       "ACWV    0.343736  \n",
       "XIC.TO  0.143280  \n",
       "VUSTX   0.010402  \n",
       "ZFL.TO -0.193565  \n",
       "FXC     1.000000  "
      ]
     },
     "execution_count": 133,
     "metadata": {},
     "output_type": "execute_result"
    }
   ],
   "source": [
    "log_ret.corr()"
   ]
  },
  {
   "cell_type": "code",
   "execution_count": 134,
   "metadata": {},
   "outputs": [
    {
     "data": {
      "text/html": [
       "<div>\n",
       "<style scoped>\n",
       "    .dataframe tbody tr th:only-of-type {\n",
       "        vertical-align: middle;\n",
       "    }\n",
       "\n",
       "    .dataframe tbody tr th {\n",
       "        vertical-align: top;\n",
       "    }\n",
       "\n",
       "    .dataframe thead th {\n",
       "        text-align: right;\n",
       "    }\n",
       "</style>\n",
       "<table border=\"1\" class=\"dataframe\">\n",
       "  <thead>\n",
       "    <tr style=\"text-align: right;\">\n",
       "      <th></th>\n",
       "      <th>count</th>\n",
       "      <th>mean</th>\n",
       "      <th>std</th>\n",
       "      <th>min</th>\n",
       "      <th>25%</th>\n",
       "      <th>50%</th>\n",
       "      <th>75%</th>\n",
       "      <th>max</th>\n",
       "    </tr>\n",
       "  </thead>\n",
       "  <tbody>\n",
       "    <tr>\n",
       "      <td>XEF.TO</td>\n",
       "      <td>736.0</td>\n",
       "      <td>0.000325</td>\n",
       "      <td>0.006654</td>\n",
       "      <td>-0.035730</td>\n",
       "      <td>-0.003220</td>\n",
       "      <td>0.000349</td>\n",
       "      <td>0.004394</td>\n",
       "      <td>0.026433</td>\n",
       "    </tr>\n",
       "    <tr>\n",
       "      <td>VTINX</td>\n",
       "      <td>709.0</td>\n",
       "      <td>0.000249</td>\n",
       "      <td>0.002162</td>\n",
       "      <td>-0.009619</td>\n",
       "      <td>-0.000750</td>\n",
       "      <td>0.000717</td>\n",
       "      <td>0.001488</td>\n",
       "      <td>0.011597</td>\n",
       "    </tr>\n",
       "    <tr>\n",
       "      <td>EEMV</td>\n",
       "      <td>710.0</td>\n",
       "      <td>0.000388</td>\n",
       "      <td>0.007235</td>\n",
       "      <td>-0.030731</td>\n",
       "      <td>-0.003938</td>\n",
       "      <td>0.000705</td>\n",
       "      <td>0.005013</td>\n",
       "      <td>0.025111</td>\n",
       "    </tr>\n",
       "    <tr>\n",
       "      <td>ACWV</td>\n",
       "      <td>710.0</td>\n",
       "      <td>0.000501</td>\n",
       "      <td>0.005185</td>\n",
       "      <td>-0.029112</td>\n",
       "      <td>-0.001692</td>\n",
       "      <td>0.000620</td>\n",
       "      <td>0.003310</td>\n",
       "      <td>0.030555</td>\n",
       "    </tr>\n",
       "    <tr>\n",
       "      <td>XIC.TO</td>\n",
       "      <td>736.0</td>\n",
       "      <td>0.000252</td>\n",
       "      <td>0.005324</td>\n",
       "      <td>-0.023786</td>\n",
       "      <td>-0.002496</td>\n",
       "      <td>0.000598</td>\n",
       "      <td>0.003735</td>\n",
       "      <td>0.026871</td>\n",
       "    </tr>\n",
       "    <tr>\n",
       "      <td>VUSTX</td>\n",
       "      <td>709.0</td>\n",
       "      <td>0.000250</td>\n",
       "      <td>0.006375</td>\n",
       "      <td>-0.021667</td>\n",
       "      <td>-0.004107</td>\n",
       "      <td>0.000740</td>\n",
       "      <td>0.004250</td>\n",
       "      <td>0.023846</td>\n",
       "    </tr>\n",
       "    <tr>\n",
       "      <td>ZFL.TO</td>\n",
       "      <td>736.0</td>\n",
       "      <td>0.000206</td>\n",
       "      <td>0.005209</td>\n",
       "      <td>-0.015488</td>\n",
       "      <td>-0.002958</td>\n",
       "      <td>0.000000</td>\n",
       "      <td>0.003439</td>\n",
       "      <td>0.019527</td>\n",
       "    </tr>\n",
       "    <tr>\n",
       "      <td>FXC</td>\n",
       "      <td>710.0</td>\n",
       "      <td>0.000047</td>\n",
       "      <td>0.004130</td>\n",
       "      <td>-0.015312</td>\n",
       "      <td>-0.002557</td>\n",
       "      <td>-0.000130</td>\n",
       "      <td>0.002228</td>\n",
       "      <td>0.016039</td>\n",
       "    </tr>\n",
       "  </tbody>\n",
       "</table>\n",
       "</div>"
      ],
      "text/plain": [
       "        count      mean       std       min       25%       50%       75%  \\\n",
       "XEF.TO  736.0  0.000325  0.006654 -0.035730 -0.003220  0.000349  0.004394   \n",
       "VTINX   709.0  0.000249  0.002162 -0.009619 -0.000750  0.000717  0.001488   \n",
       "EEMV    710.0  0.000388  0.007235 -0.030731 -0.003938  0.000705  0.005013   \n",
       "ACWV    710.0  0.000501  0.005185 -0.029112 -0.001692  0.000620  0.003310   \n",
       "XIC.TO  736.0  0.000252  0.005324 -0.023786 -0.002496  0.000598  0.003735   \n",
       "VUSTX   709.0  0.000250  0.006375 -0.021667 -0.004107  0.000740  0.004250   \n",
       "ZFL.TO  736.0  0.000206  0.005209 -0.015488 -0.002958  0.000000  0.003439   \n",
       "FXC     710.0  0.000047  0.004130 -0.015312 -0.002557 -0.000130  0.002228   \n",
       "\n",
       "             max  \n",
       "XEF.TO  0.026433  \n",
       "VTINX   0.011597  \n",
       "EEMV    0.025111  \n",
       "ACWV    0.030555  \n",
       "XIC.TO  0.026871  \n",
       "VUSTX   0.023846  \n",
       "ZFL.TO  0.019527  \n",
       "FXC     0.016039  "
      ]
     },
     "execution_count": 134,
     "metadata": {},
     "output_type": "execute_result"
    }
   ],
   "source": [
    "log_ret.describe().transpose()"
   ]
  },
  {
   "cell_type": "markdown",
   "metadata": {},
   "source": [
    "# My WS PF"
   ]
  },
  {
   "cell_type": "code",
   "execution_count": 135,
   "metadata": {},
   "outputs": [
    {
     "name": "stdout",
     "output_type": "stream",
     "text": [
      "My Portfolio Weights\n",
      "[22 22 17 11 11  5  7  2]\n",
      "\n",
      "\n",
      "Rebalance to sum to 1.0\n",
      "[0.22680412 0.22680412 0.17525773 0.11340206 0.11340206 0.05154639\n",
      " 0.07216495 0.02061856]\n",
      "\n",
      "\n",
      "Expected Portfolio Return\n",
      "0.07809512378180873\n",
      "\n",
      "\n",
      "Expected Volatility\n",
      "0.059995583088966443\n",
      "\n",
      "\n",
      "Sharpe Ratio\n",
      "1.3016812198658487\n"
     ]
    }
   ],
   "source": [
    "# Set seed (optional)\n",
    "#np.random.seed(101)\n",
    "\n",
    "# My Portfolio Weights\n",
    "print('My Portfolio Weights')\n",
    "#holdings in thousands\n",
    "\n",
    "\n",
    "\n",
    "my_weights = np.array([22,22,17,11,11,5,7,2])\n",
    "print(my_weights)\n",
    "print('\\n')\n",
    " \n",
    "\n",
    "\n",
    "# Rebalance Weights\n",
    "print('Rebalance to sum to 1.0')\n",
    "my_weights = my_weights / np.sum(my_weights)\n",
    "print(my_weights)\n",
    "print('\\n')\n",
    "\n",
    "# Expected Return\n",
    "print('Expected Portfolio Return')\n",
    "my_exp_ret = np.sum(log_ret.mean() * my_weights) *250\n",
    "print(my_exp_ret)\n",
    "print('\\n')\n",
    "\n",
    "\n",
    "# Expected Variance\n",
    "print('Expected Volatility')\n",
    "my_exp_vol = np.sqrt(np.dot(my_weights.T, np.dot(log_ret.cov() * 250, my_weights)))\n",
    "print(my_exp_vol)\n",
    "print('\\n')\n",
    "\n",
    "# Sharpe Ratio  ASSUMES RF of 0 , subtract 2% if want to be more accurate\n",
    "my_SR = my_exp_ret/my_exp_vol\n",
    "print('Sharpe Ratio')\n",
    "print(my_SR)"
   ]
  },
  {
   "cell_type": "markdown",
   "metadata": {},
   "source": [
    "# Monte Carlo Simulation PF"
   ]
  },
  {
   "cell_type": "code",
   "execution_count": 136,
   "metadata": {},
   "outputs": [
    {
     "data": {
      "text/plain": [
       "8"
      ]
     },
     "execution_count": 136,
     "metadata": {},
     "output_type": "execute_result"
    }
   ],
   "source": [
    "num_assets = len(tickers)\n",
    "num_assets"
   ]
  },
  {
   "cell_type": "code",
   "execution_count": 137,
   "metadata": {},
   "outputs": [],
   "source": [
    "rand_weights = np.random.random(num_assets)\n",
    "rand_weights /= np.sum(rand_weights)\n"
   ]
  },
  {
   "cell_type": "code",
   "execution_count": 138,
   "metadata": {},
   "outputs": [
    {
     "data": {
      "text/plain": [
       "array([0.15490766, 0.17512081, 0.08902048, 0.13199096, 0.09067084,\n",
       "       0.08627414, 0.18380167, 0.08821344])"
      ]
     },
     "execution_count": 138,
     "metadata": {},
     "output_type": "execute_result"
    }
   ],
   "source": [
    "rand_weights"
   ]
  },
  {
   "cell_type": "code",
   "execution_count": 186,
   "metadata": {},
   "outputs": [
    {
     "data": {
      "text/plain": [
       "(array([0.06204546, 0.06730852, 0.09060877, ..., 0.0819136 , 0.06640352,\n",
       "        0.06518468]),\n",
       " array([0.04373302, 0.04840979, 0.06828251, ..., 0.05788929, 0.04516815,\n",
       "        0.04872225]))"
      ]
     },
     "execution_count": 186,
     "metadata": {},
     "output_type": "execute_result"
    }
   ],
   "source": [
    "pfolio_returns = []\n",
    "pfolio_volatilities = []\n",
    "all_weights = np.zeros((10000,len(log_ret.columns)))\n",
    "\n",
    "\n",
    "for x in range (10000):\n",
    "    rand_weights = np.random.random(num_assets)\n",
    "    rand_weights /= np.sum(rand_weights)\n",
    "    all_weights[x,:] = rand_weights\n",
    "    pfolio_returns.append(np.sum(rand_weights * log_ret.mean()) * 250)\n",
    "    pfolio_volatilities.append(np.sqrt(np.dot(rand_weights.T,np.dot(log_ret.cov() * 250, rand_weights))))\n",
    "    \n",
    "    \n",
    "    \n",
    "pfolio_returns = np.array(pfolio_returns)\n",
    "pfolio_volatilities = np.array(pfolio_volatilities)   \n",
    "\n",
    "pfolio_returns, pfolio_volatilities"
   ]
  },
  {
   "cell_type": "code",
   "execution_count": 187,
   "metadata": {},
   "outputs": [],
   "source": [
    "portfolios = pd.DataFrame({'Return': pfolio_returns, 'Volatility': pfolio_volatilities})"
   ]
  },
  {
   "cell_type": "code",
   "execution_count": 188,
   "metadata": {},
   "outputs": [
    {
     "data": {
      "text/html": [
       "<div>\n",
       "<style scoped>\n",
       "    .dataframe tbody tr th:only-of-type {\n",
       "        vertical-align: middle;\n",
       "    }\n",
       "\n",
       "    .dataframe tbody tr th {\n",
       "        vertical-align: top;\n",
       "    }\n",
       "\n",
       "    .dataframe thead th {\n",
       "        text-align: right;\n",
       "    }\n",
       "</style>\n",
       "<table border=\"1\" class=\"dataframe\">\n",
       "  <thead>\n",
       "    <tr style=\"text-align: right;\">\n",
       "      <th></th>\n",
       "      <th>Return</th>\n",
       "      <th>Volatility</th>\n",
       "    </tr>\n",
       "  </thead>\n",
       "  <tbody>\n",
       "    <tr>\n",
       "      <td>0</td>\n",
       "      <td>0.062045</td>\n",
       "      <td>0.043733</td>\n",
       "    </tr>\n",
       "    <tr>\n",
       "      <td>1</td>\n",
       "      <td>0.067309</td>\n",
       "      <td>0.048410</td>\n",
       "    </tr>\n",
       "    <tr>\n",
       "      <td>2</td>\n",
       "      <td>0.090609</td>\n",
       "      <td>0.068283</td>\n",
       "    </tr>\n",
       "    <tr>\n",
       "      <td>3</td>\n",
       "      <td>0.073579</td>\n",
       "      <td>0.068184</td>\n",
       "    </tr>\n",
       "    <tr>\n",
       "      <td>4</td>\n",
       "      <td>0.066668</td>\n",
       "      <td>0.048542</td>\n",
       "    </tr>\n",
       "  </tbody>\n",
       "</table>\n",
       "</div>"
      ],
      "text/plain": [
       "     Return  Volatility\n",
       "0  0.062045    0.043733\n",
       "1  0.067309    0.048410\n",
       "2  0.090609    0.068283\n",
       "3  0.073579    0.068184\n",
       "4  0.066668    0.048542"
      ]
     },
     "execution_count": 188,
     "metadata": {},
     "output_type": "execute_result"
    }
   ],
   "source": [
    "portfolios.head()"
   ]
  },
  {
   "cell_type": "code",
   "execution_count": 189,
   "metadata": {
    "scrolled": true
   },
   "outputs": [
    {
     "name": "stdout",
     "output_type": "stream",
     "text": [
      "<class 'pandas.core.frame.DataFrame'>\n",
      "RangeIndex: 10000 entries, 0 to 9999\n",
      "Data columns (total 2 columns):\n",
      "Return        10000 non-null float64\n",
      "Volatility    10000 non-null float64\n",
      "dtypes: float64(2)\n",
      "memory usage: 156.4 KB\n"
     ]
    }
   ],
   "source": [
    "portfolios.info()"
   ]
  },
  {
   "cell_type": "code",
   "execution_count": 190,
   "metadata": {},
   "outputs": [],
   "source": [
    "portfolios['Sharpe_Ratio']= portfolios['Return']/portfolios['Volatility']"
   ]
  },
  {
   "cell_type": "code",
   "execution_count": null,
   "metadata": {},
   "outputs": [],
   "source": []
  },
  {
   "cell_type": "code",
   "execution_count": 192,
   "metadata": {},
   "outputs": [
    {
     "name": "stderr",
     "output_type": "stream",
     "text": [
      "/Users/mk/opt/anaconda3/lib/python3.7/site-packages/ipykernel_launcher.py:1: FutureWarning: \n",
      "The current behaviour of 'Series.argmax' is deprecated, use 'idxmax'\n",
      "instead.\n",
      "The behavior of 'argmax' will be corrected to return the positional\n",
      "maximum in the future. For now, use 'series.values.argmax' or\n",
      "'np.argmax(np.array(values))' to get the position of the maximum\n",
      "row.\n",
      "  \"\"\"Entry point for launching an IPython kernel.\n"
     ]
    }
   ],
   "source": [
    "max_sr= portfolios['Sharpe_Ratio'].argmax()"
   ]
  },
  {
   "cell_type": "code",
   "execution_count": 193,
   "metadata": {},
   "outputs": [
    {
     "data": {
      "text/plain": [
       "1.7500571621505063"
      ]
     },
     "execution_count": 193,
     "metadata": {},
     "output_type": "execute_result"
    }
   ],
   "source": [
    "portfolios['Sharpe_Ratio'][max_sr]"
   ]
  },
  {
   "cell_type": "code",
   "execution_count": 194,
   "metadata": {},
   "outputs": [
    {
     "name": "stdout",
     "output_type": "stream",
     "text": [
      "0.08321227542986952\n"
     ]
    }
   ],
   "source": [
    "max_sr_ret = portfolios['Return'][max_sr]\n",
    "print(max_sr_ret)"
   ]
  },
  {
   "cell_type": "code",
   "execution_count": 196,
   "metadata": {},
   "outputs": [
    {
     "name": "stdout",
     "output_type": "stream",
     "text": [
      "0.047548318551844646\n"
     ]
    }
   ],
   "source": [
    "max_sr_vol = portfolios['Volatility'][max_sr]\n",
    "print(max_sr_vol)"
   ]
  },
  {
   "cell_type": "code",
   "execution_count": 197,
   "metadata": {},
   "outputs": [
    {
     "data": {
      "text/plain": [
       "array([0.02421671, 0.27481421, 0.00966607, 0.36592827, 0.03817006,\n",
       "       0.14362985, 0.10762854, 0.03594629])"
      ]
     },
     "execution_count": 197,
     "metadata": {},
     "output_type": "execute_result"
    }
   ],
   "source": [
    "all_weights[max_sr,:]"
   ]
  },
  {
   "cell_type": "code",
   "execution_count": 201,
   "metadata": {},
   "outputs": [
    {
     "data": {
      "text/plain": [
       "<matplotlib.collections.PathCollection at 0x1c26d1ced0>"
      ]
     },
     "execution_count": 201,
     "metadata": {},
     "output_type": "execute_result"
    },
    {
     "data": {
      "image/png": "[encoded data removed]",
      "text/plain": [
       "<Figure size 720x432 with 1 Axes>"
      ]
     },
     "metadata": {
      "needs_background": "light"
     },
     "output_type": "display_data"
    }
   ],
   "source": [
    "portfolios.plot(x='Volatility', y='Return', kind='scatter', figsize=(10, 6));\n",
    "plt.xlabel('Expected Volatility')\n",
    "plt.ylabel('Expected Return')\n",
    "\n",
    "#Add my portfolio\n",
    "plt.scatter(my_exp_vol,my_exp_ret,label= 'my pf',c='black',s=100,edgecolors='black')\n",
    "\n",
    "# Add red dot for max SR\n",
    "plt.scatter(max_sr_vol,max_sr_ret,c='red',s=150,edgecolors='black')\n"
   ]
  },
  {
   "cell_type": "markdown",
   "metadata": {},
   "source": [
    "# PLOT PORTFOLIO RISK AND RETURN "
   ]
  },
  {
   "cell_type": "code",
   "execution_count": 204,
   "metadata": {},
   "outputs": [
    {
     "data": {
      "text/plain": [
       "<matplotlib.collections.PathCollection at 0x1c261491d0>"
      ]
     },
     "execution_count": 204,
     "metadata": {},
     "output_type": "execute_result"
    },
    {
     "data": {
      "image/png": "[encoded data removed]",
      "text/plain": [
       "<Figure size 864x576 with 2 Axes>"
      ]
     },
     "metadata": {
      "needs_background": "light"
     },
     "output_type": "display_data"
    }
   ],
   "source": [
    "plt.figure(figsize=(12,8))\n",
    "plt.scatter(vol_arr,ret_arr,c=sharpe_arr,cmap='plasma')\n",
    "plt.colorbar(label='Sharpe Ratio')\n",
    "plt.xlabel('Volatility')\n",
    "plt.ylabel('Return')\n",
    "\n",
    "\n",
    "# Add red dot for max SR\n",
    "plt.scatter(my_exp_vol,my_exp_ret,c='black',s=150,edgecolors='black')\n",
    "\n",
    "#Add my portfolio\n",
    "plt.scatter(max_sr_vol,max_sr_ret,c='red',s=150,edgecolors='black')"
   ]
  }
 ],
 "metadata": {
  "kernelspec": {
   "display_name": "Python 3",
   "language": "python",
   "name": "python3"
  },
  "language_info": {
   "codemirror_mode": {
    "name": "ipython",
    "version": 3
   },
   "file_extension": ".py",
   "mimetype": "text/x-python",
   "name": "python",
   "nbconvert_exporter": "python",
   "pygments_lexer": "ipython3",
   "version": "3.7.4"
  }
 },
 "nbformat": 4,
 "nbformat_minor": 2
}
