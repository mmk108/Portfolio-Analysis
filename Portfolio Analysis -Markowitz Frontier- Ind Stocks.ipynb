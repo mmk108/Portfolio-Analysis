{
 "cells": [
  {
   "cell_type": "code",
   "execution_count": 10,
   "metadata": {},
   "outputs": [],
   "source": [
    "import numpy as np\n",
    "import pandas as pd\n"
   ]
  },
  {
   "cell_type": "code",
   "execution_count": 57,
   "metadata": {},
   "outputs": [],
   "source": [
    "from pandas_datareader import data as wb\n",
    "import matplotlib.pyplot as plt\n",
    "%matplotlib inline"
   ]
  },
  {
   "cell_type": "markdown",
   "metadata": {},
   "source": [
    "# Portfolio"
   ]
  },
  {
   "cell_type": "code",
   "execution_count": 14,
   "metadata": {},
   "outputs": [],
   "source": [
    "tickers = ['COF', 'GLD', 'RY', 'AAPL', 'FFH.TO', 'ACB', 'TTWO', 'TEAM', 'VGRO.TO'] \n",
    "pf = pd.DataFrame()\n",
    "for t in tickers:\n",
    "    pf[t] = wb.DataReader(t, data_source='yahoo', start = '2017-1-1')['Adj Close']\n",
    "\n",
    "\n"
   ]
  },
  {
   "cell_type": "code",
   "execution_count": 15,
   "metadata": {
    "scrolled": true
   },
   "outputs": [
    {
     "data": {
      "text/html": [
       "<div>\n",
       "<style scoped>\n",
       "    .dataframe tbody tr th:only-of-type {\n",
       "        vertical-align: middle;\n",
       "    }\n",
       "\n",
       "    .dataframe tbody tr th {\n",
       "        vertical-align: top;\n",
       "    }\n",
       "\n",
       "    .dataframe thead th {\n",
       "        text-align: right;\n",
       "    }\n",
       "</style>\n",
       "<table border=\"1\" class=\"dataframe\">\n",
       "  <thead>\n",
       "    <tr style=\"text-align: right;\">\n",
       "      <th></th>\n",
       "      <th>COF</th>\n",
       "      <th>GLD</th>\n",
       "      <th>RY</th>\n",
       "      <th>AAPL</th>\n",
       "      <th>FFH.TO</th>\n",
       "      <th>ACB</th>\n",
       "      <th>TTWO</th>\n",
       "      <th>TEAM</th>\n",
       "      <th>VGRO.TO</th>\n",
       "    </tr>\n",
       "    <tr>\n",
       "      <th>Date</th>\n",
       "      <th></th>\n",
       "      <th></th>\n",
       "      <th></th>\n",
       "      <th></th>\n",
       "      <th></th>\n",
       "      <th></th>\n",
       "      <th></th>\n",
       "      <th></th>\n",
       "      <th></th>\n",
       "    </tr>\n",
       "  </thead>\n",
       "  <tbody>\n",
       "    <tr>\n",
       "      <td>2017-01-03</td>\n",
       "      <td>83.771164</td>\n",
       "      <td>110.470001</td>\n",
       "      <td>59.900360</td>\n",
       "      <td>110.953873</td>\n",
       "      <td>620.096313</td>\n",
       "      <td>1.780</td>\n",
       "      <td>49.220001</td>\n",
       "      <td>24.600000</td>\n",
       "      <td>NaN</td>\n",
       "    </tr>\n",
       "    <tr>\n",
       "      <td>2017-01-04</td>\n",
       "      <td>85.119118</td>\n",
       "      <td>110.860001</td>\n",
       "      <td>61.333275</td>\n",
       "      <td>110.829704</td>\n",
       "      <td>615.460388</td>\n",
       "      <td>1.820</td>\n",
       "      <td>50.139999</td>\n",
       "      <td>25.150000</td>\n",
       "      <td>NaN</td>\n",
       "    </tr>\n",
       "    <tr>\n",
       "      <td>2017-01-05</td>\n",
       "      <td>83.309265</td>\n",
       "      <td>112.580002</td>\n",
       "      <td>61.605782</td>\n",
       "      <td>111.393303</td>\n",
       "      <td>611.181763</td>\n",
       "      <td>1.860</td>\n",
       "      <td>49.360001</td>\n",
       "      <td>24.969999</td>\n",
       "      <td>NaN</td>\n",
       "    </tr>\n",
       "    <tr>\n",
       "      <td>2017-01-06</td>\n",
       "      <td>83.516640</td>\n",
       "      <td>111.750000</td>\n",
       "      <td>61.596996</td>\n",
       "      <td>112.635139</td>\n",
       "      <td>603.677734</td>\n",
       "      <td>1.860</td>\n",
       "      <td>49.950001</td>\n",
       "      <td>24.719999</td>\n",
       "      <td>NaN</td>\n",
       "    </tr>\n",
       "    <tr>\n",
       "      <td>2017-01-09</td>\n",
       "      <td>82.423195</td>\n",
       "      <td>112.669998</td>\n",
       "      <td>61.482700</td>\n",
       "      <td>113.666824</td>\n",
       "      <td>597.537170</td>\n",
       "      <td>1.962</td>\n",
       "      <td>50.459999</td>\n",
       "      <td>25.030001</td>\n",
       "      <td>NaN</td>\n",
       "    </tr>\n",
       "  </tbody>\n",
       "</table>\n",
       "</div>"
      ],
      "text/plain": [
       "                  COF         GLD         RY        AAPL      FFH.TO    ACB  \\\n",
       "Date                                                                          \n",
       "2017-01-03  83.771164  110.470001  59.900360  110.953873  620.096313  1.780   \n",
       "2017-01-04  85.119118  110.860001  61.333275  110.829704  615.460388  1.820   \n",
       "2017-01-05  83.309265  112.580002  61.605782  111.393303  611.181763  1.860   \n",
       "2017-01-06  83.516640  111.750000  61.596996  112.635139  603.677734  1.860   \n",
       "2017-01-09  82.423195  112.669998  61.482700  113.666824  597.537170  1.962   \n",
       "\n",
       "                 TTWO       TEAM  VGRO.TO  \n",
       "Date                                       \n",
       "2017-01-03  49.220001  24.600000      NaN  \n",
       "2017-01-04  50.139999  25.150000      NaN  \n",
       "2017-01-05  49.360001  24.969999      NaN  \n",
       "2017-01-06  49.950001  24.719999      NaN  \n",
       "2017-01-09  50.459999  25.030001      NaN  "
      ]
     },
     "execution_count": 15,
     "metadata": {},
     "output_type": "execute_result"
    }
   ],
   "source": [
    "pf.head()"
   ]
  },
  {
   "cell_type": "markdown",
   "metadata": {},
   "source": [
    "# Current Stock Prices"
   ]
  },
  {
   "cell_type": "code",
   "execution_count": 16,
   "metadata": {},
   "outputs": [
    {
     "data": {
      "text/plain": [
       "COF        100.010002\n",
       "GLD        137.860001\n",
       "RY          81.750000\n",
       "AAPL       267.250000\n",
       "FFH.TO     600.010010\n",
       "ACB          2.500000\n",
       "TTWO       121.349998\n",
       "TEAM       127.110001\n",
       "VGRO.TO     26.680000\n",
       "Name: 2019-11-29 00:00:00, dtype: float64"
      ]
     },
     "execution_count": 16,
     "metadata": {},
     "output_type": "execute_result"
    }
   ],
   "source": [
    "pf.iloc[-1]"
   ]
  },
  {
   "cell_type": "markdown",
   "metadata": {},
   "source": [
    "# Stock Price at Beginning on Dataset"
   ]
  },
  {
   "cell_type": "code",
   "execution_count": 17,
   "metadata": {},
   "outputs": [
    {
     "data": {
      "text/plain": [
       "COF         83.771164\n",
       "GLD        110.470001\n",
       "RY          59.900360\n",
       "AAPL       110.953873\n",
       "FFH.TO     620.096313\n",
       "ACB          1.780000\n",
       "TTWO        49.220001\n",
       "TEAM        24.600000\n",
       "VGRO.TO           NaN\n",
       "Name: 2017-01-03 00:00:00, dtype: float64"
      ]
     },
     "execution_count": 17,
     "metadata": {},
     "output_type": "execute_result"
    }
   ],
   "source": [
    "pf.iloc[0]"
   ]
  },
  {
   "cell_type": "markdown",
   "metadata": {},
   "source": [
    "# Normalization\n"
   ]
  },
  {
   "cell_type": "code",
   "execution_count": 18,
   "metadata": {},
   "outputs": [
    {
     "data": {
      "image/png": "[encoded data removed]",
      "text/plain": [
       "<Figure size 1080x432 with 1 Axes>"
      ]
     },
     "metadata": {
      "needs_background": "light"
     },
     "output_type": "display_data"
    }
   ],
   "source": [
    "(pf/ pf.iloc[0] * 100).plot(figsize = (15, 6));\n",
    "plt.show()"
   ]
  },
  {
   "cell_type": "markdown",
   "metadata": {},
   "source": [
    "# Simple Return"
   ]
  },
  {
   "cell_type": "code",
   "execution_count": 25,
   "metadata": {},
   "outputs": [
    {
     "data": {
      "text/html": [
       "<div>\n",
       "<style scoped>\n",
       "    .dataframe tbody tr th:only-of-type {\n",
       "        vertical-align: middle;\n",
       "    }\n",
       "\n",
       "    .dataframe tbody tr th {\n",
       "        vertical-align: top;\n",
       "    }\n",
       "\n",
       "    .dataframe thead th {\n",
       "        text-align: right;\n",
       "    }\n",
       "</style>\n",
       "<table border=\"1\" class=\"dataframe\">\n",
       "  <thead>\n",
       "    <tr style=\"text-align: right;\">\n",
       "      <th></th>\n",
       "      <th>COF</th>\n",
       "      <th>GLD</th>\n",
       "      <th>RY</th>\n",
       "      <th>AAPL</th>\n",
       "      <th>FFH.TO</th>\n",
       "      <th>ACB</th>\n",
       "      <th>TTWO</th>\n",
       "      <th>TEAM</th>\n",
       "      <th>VGRO.TO</th>\n",
       "    </tr>\n",
       "    <tr>\n",
       "      <th>Date</th>\n",
       "      <th></th>\n",
       "      <th></th>\n",
       "      <th></th>\n",
       "      <th></th>\n",
       "      <th></th>\n",
       "      <th></th>\n",
       "      <th></th>\n",
       "      <th></th>\n",
       "      <th></th>\n",
       "    </tr>\n",
       "  </thead>\n",
       "  <tbody>\n",
       "    <tr>\n",
       "      <td>2019-11-22</td>\n",
       "      <td>0.013744</td>\n",
       "      <td>-0.001884</td>\n",
       "      <td>0.000122</td>\n",
       "      <td>-0.000878</td>\n",
       "      <td>0.008407</td>\n",
       "      <td>-0.134615</td>\n",
       "      <td>-0.024971</td>\n",
       "      <td>0.000079</td>\n",
       "      <td>0.000378</td>\n",
       "    </tr>\n",
       "    <tr>\n",
       "      <td>2019-11-25</td>\n",
       "      <td>0.017941</td>\n",
       "      <td>-0.004792</td>\n",
       "      <td>0.000243</td>\n",
       "      <td>0.017534</td>\n",
       "      <td>0.005160</td>\n",
       "      <td>-0.066667</td>\n",
       "      <td>-0.001004</td>\n",
       "      <td>0.004207</td>\n",
       "      <td>0.006800</td>\n",
       "    </tr>\n",
       "    <tr>\n",
       "      <td>2019-11-26</td>\n",
       "      <td>-0.006409</td>\n",
       "      <td>0.004815</td>\n",
       "      <td>-0.004622</td>\n",
       "      <td>-0.007809</td>\n",
       "      <td>0.004933</td>\n",
       "      <td>-0.051587</td>\n",
       "      <td>0.009048</td>\n",
       "      <td>0.025294</td>\n",
       "      <td>0.000000</td>\n",
       "    </tr>\n",
       "    <tr>\n",
       "      <td>2019-11-27</td>\n",
       "      <td>0.010381</td>\n",
       "      <td>-0.005300</td>\n",
       "      <td>0.001100</td>\n",
       "      <td>0.013432</td>\n",
       "      <td>0.009934</td>\n",
       "      <td>0.054393</td>\n",
       "      <td>0.009465</td>\n",
       "      <td>-0.017038</td>\n",
       "      <td>0.003377</td>\n",
       "    </tr>\n",
       "    <tr>\n",
       "      <td>2019-11-29</td>\n",
       "      <td>-0.002394</td>\n",
       "      <td>0.006204</td>\n",
       "      <td>-0.002197</td>\n",
       "      <td>-0.002203</td>\n",
       "      <td>-0.011434</td>\n",
       "      <td>-0.007937</td>\n",
       "      <td>-0.001892</td>\n",
       "      <td>-0.003059</td>\n",
       "      <td>-0.002244</td>\n",
       "    </tr>\n",
       "  </tbody>\n",
       "</table>\n",
       "</div>"
      ],
      "text/plain": [
       "                 COF       GLD        RY      AAPL    FFH.TO       ACB  \\\n",
       "Date                                                                     \n",
       "2019-11-22  0.013744 -0.001884  0.000122 -0.000878  0.008407 -0.134615   \n",
       "2019-11-25  0.017941 -0.004792  0.000243  0.017534  0.005160 -0.066667   \n",
       "2019-11-26 -0.006409  0.004815 -0.004622 -0.007809  0.004933 -0.051587   \n",
       "2019-11-27  0.010381 -0.005300  0.001100  0.013432  0.009934  0.054393   \n",
       "2019-11-29 -0.002394  0.006204 -0.002197 -0.002203 -0.011434 -0.007937   \n",
       "\n",
       "                TTWO      TEAM   VGRO.TO  \n",
       "Date                                      \n",
       "2019-11-22 -0.024971  0.000079  0.000378  \n",
       "2019-11-25 -0.001004  0.004207  0.006800  \n",
       "2019-11-26  0.009048  0.025294  0.000000  \n",
       "2019-11-27  0.009465 -0.017038  0.003377  \n",
       "2019-11-29 -0.001892 -0.003059 -0.002244  "
      ]
     },
     "execution_count": 25,
     "metadata": {},
     "output_type": "execute_result"
    }
   ],
   "source": [
    "returns = (pf / pf.shift(1)) - 1\n",
    "returns.head()\n"
   ]
  },
  {
   "cell_type": "markdown",
   "metadata": {},
   "source": [
    "# Log Return"
   ]
  },
  {
   "cell_type": "code",
   "execution_count": 30,
   "metadata": {},
   "outputs": [
    {
     "data": {
      "text/html": [
       "<div>\n",
       "<style scoped>\n",
       "    .dataframe tbody tr th:only-of-type {\n",
       "        vertical-align: middle;\n",
       "    }\n",
       "\n",
       "    .dataframe tbody tr th {\n",
       "        vertical-align: top;\n",
       "    }\n",
       "\n",
       "    .dataframe thead th {\n",
       "        text-align: right;\n",
       "    }\n",
       "</style>\n",
       "<table border=\"1\" class=\"dataframe\">\n",
       "  <thead>\n",
       "    <tr style=\"text-align: right;\">\n",
       "      <th></th>\n",
       "      <th>COF</th>\n",
       "      <th>GLD</th>\n",
       "      <th>RY</th>\n",
       "      <th>AAPL</th>\n",
       "      <th>FFH.TO</th>\n",
       "      <th>ACB</th>\n",
       "      <th>TTWO</th>\n",
       "      <th>TEAM</th>\n",
       "      <th>VGRO.TO</th>\n",
       "    </tr>\n",
       "    <tr>\n",
       "      <th>Date</th>\n",
       "      <th></th>\n",
       "      <th></th>\n",
       "      <th></th>\n",
       "      <th></th>\n",
       "      <th></th>\n",
       "      <th></th>\n",
       "      <th></th>\n",
       "      <th></th>\n",
       "      <th></th>\n",
       "    </tr>\n",
       "  </thead>\n",
       "  <tbody>\n",
       "    <tr>\n",
       "      <td>2017-01-03</td>\n",
       "      <td>NaN</td>\n",
       "      <td>NaN</td>\n",
       "      <td>NaN</td>\n",
       "      <td>NaN</td>\n",
       "      <td>NaN</td>\n",
       "      <td>NaN</td>\n",
       "      <td>NaN</td>\n",
       "      <td>NaN</td>\n",
       "      <td>NaN</td>\n",
       "    </tr>\n",
       "    <tr>\n",
       "      <td>2017-01-04</td>\n",
       "      <td>0.015963</td>\n",
       "      <td>0.003524</td>\n",
       "      <td>0.023640</td>\n",
       "      <td>-0.001120</td>\n",
       "      <td>-0.007504</td>\n",
       "      <td>0.022223</td>\n",
       "      <td>0.018519</td>\n",
       "      <td>0.022111</td>\n",
       "      <td>NaN</td>\n",
       "    </tr>\n",
       "    <tr>\n",
       "      <td>2017-01-05</td>\n",
       "      <td>-0.021492</td>\n",
       "      <td>0.015396</td>\n",
       "      <td>0.004433</td>\n",
       "      <td>0.005072</td>\n",
       "      <td>-0.006976</td>\n",
       "      <td>0.021740</td>\n",
       "      <td>-0.015679</td>\n",
       "      <td>-0.007183</td>\n",
       "      <td>NaN</td>\n",
       "    </tr>\n",
       "    <tr>\n",
       "      <td>2017-01-06</td>\n",
       "      <td>0.002486</td>\n",
       "      <td>-0.007400</td>\n",
       "      <td>-0.000143</td>\n",
       "      <td>0.011087</td>\n",
       "      <td>-0.012354</td>\n",
       "      <td>0.000000</td>\n",
       "      <td>0.011882</td>\n",
       "      <td>-0.010062</td>\n",
       "      <td>NaN</td>\n",
       "    </tr>\n",
       "    <tr>\n",
       "      <td>2017-01-09</td>\n",
       "      <td>-0.013179</td>\n",
       "      <td>0.008199</td>\n",
       "      <td>-0.001857</td>\n",
       "      <td>0.009118</td>\n",
       "      <td>-0.010224</td>\n",
       "      <td>0.053388</td>\n",
       "      <td>0.010158</td>\n",
       "      <td>0.012463</td>\n",
       "      <td>NaN</td>\n",
       "    </tr>\n",
       "  </tbody>\n",
       "</table>\n",
       "</div>"
      ],
      "text/plain": [
       "                 COF       GLD        RY      AAPL    FFH.TO       ACB  \\\n",
       "Date                                                                     \n",
       "2017-01-03       NaN       NaN       NaN       NaN       NaN       NaN   \n",
       "2017-01-04  0.015963  0.003524  0.023640 -0.001120 -0.007504  0.022223   \n",
       "2017-01-05 -0.021492  0.015396  0.004433  0.005072 -0.006976  0.021740   \n",
       "2017-01-06  0.002486 -0.007400 -0.000143  0.011087 -0.012354  0.000000   \n",
       "2017-01-09 -0.013179  0.008199 -0.001857  0.009118 -0.010224  0.053388   \n",
       "\n",
       "                TTWO      TEAM  VGRO.TO  \n",
       "Date                                     \n",
       "2017-01-03       NaN       NaN      NaN  \n",
       "2017-01-04  0.018519  0.022111      NaN  \n",
       "2017-01-05 -0.015679 -0.007183      NaN  \n",
       "2017-01-06  0.011882 -0.010062      NaN  \n",
       "2017-01-09  0.010158  0.012463      NaN  "
      ]
     },
     "execution_count": 30,
     "metadata": {},
     "output_type": "execute_result"
    }
   ],
   "source": [
    "log_ret = np.log(pf / pf.shift(1))\n",
    "log_ret.head()"
   ]
  },
  {
   "cell_type": "markdown",
   "metadata": {},
   "source": [
    "# Measuring Risk "
   ]
  },
  {
   "cell_type": "code",
   "execution_count": 31,
   "metadata": {},
   "outputs": [
    {
     "data": {
      "text/plain": [
       "COF        0.000242\n",
       "GLD        0.000303\n",
       "RY         0.000425\n",
       "AAPL       0.001201\n",
       "FFH.TO    -0.000012\n",
       "ACB        0.000464\n",
       "TTWO       0.001233\n",
       "TEAM       0.002244\n",
       "VGRO.TO    0.000189\n",
       "dtype: float64"
      ]
     },
     "execution_count": 31,
     "metadata": {},
     "output_type": "execute_result"
    }
   ],
   "source": [
    "log_ret.mean()"
   ]
  },
  {
   "cell_type": "code",
   "execution_count": 32,
   "metadata": {},
   "outputs": [
    {
     "data": {
      "text/plain": [
       "COF        0.060513\n",
       "GLD        0.075647\n",
       "RY         0.106210\n",
       "AAPL       0.300229\n",
       "FFH.TO    -0.003053\n",
       "ACB        0.116010\n",
       "TTWO       0.308189\n",
       "TEAM       0.560897\n",
       "VGRO.TO    0.047345\n",
       "dtype: float64"
      ]
     },
     "execution_count": 32,
     "metadata": {},
     "output_type": "execute_result"
    }
   ],
   "source": [
    "log_ret.mean()*250 #annual "
   ]
  },
  {
   "cell_type": "code",
   "execution_count": 33,
   "metadata": {},
   "outputs": [
    {
     "data": {
      "text/plain": [
       "COF        0.014644\n",
       "GLD        0.006640\n",
       "RY         0.008074\n",
       "AAPL       0.015693\n",
       "FFH.TO     0.012588\n",
       "ACB        0.049681\n",
       "TTWO       0.022379\n",
       "TEAM       0.025637\n",
       "VGRO.TO    0.005478\n",
       "dtype: float64"
      ]
     },
     "execution_count": 33,
     "metadata": {},
     "output_type": "execute_result"
    }
   ],
   "source": [
    "log_ret.std()"
   ]
  },
  {
   "cell_type": "code",
   "execution_count": 34,
   "metadata": {},
   "outputs": [
    {
     "data": {
      "text/plain": [
       "COF        0.231536\n",
       "GLD        0.104991\n",
       "RY         0.127662\n",
       "AAPL       0.248132\n",
       "FFH.TO     0.199031\n",
       "ACB        0.785519\n",
       "TTWO       0.353847\n",
       "TEAM       0.405364\n",
       "VGRO.TO    0.086610\n",
       "dtype: float64"
      ]
     },
     "execution_count": 34,
     "metadata": {},
     "output_type": "execute_result"
    }
   ],
   "source": [
    "log_ret.std() * 250 ** 0.5"
   ]
  },
  {
   "cell_type": "markdown",
   "metadata": {},
   "source": [
    "# Calculating Covariance"
   ]
  },
  {
   "cell_type": "code",
   "execution_count": 37,
   "metadata": {},
   "outputs": [
    {
     "data": {
      "text/html": [
       "<div>\n",
       "<style scoped>\n",
       "    .dataframe tbody tr th:only-of-type {\n",
       "        vertical-align: middle;\n",
       "    }\n",
       "\n",
       "    .dataframe tbody tr th {\n",
       "        vertical-align: top;\n",
       "    }\n",
       "\n",
       "    .dataframe thead th {\n",
       "        text-align: right;\n",
       "    }\n",
       "</style>\n",
       "<table border=\"1\" class=\"dataframe\">\n",
       "  <thead>\n",
       "    <tr style=\"text-align: right;\">\n",
       "      <th></th>\n",
       "      <th>COF</th>\n",
       "      <th>GLD</th>\n",
       "      <th>RY</th>\n",
       "      <th>AAPL</th>\n",
       "      <th>FFH.TO</th>\n",
       "      <th>ACB</th>\n",
       "      <th>TTWO</th>\n",
       "      <th>TEAM</th>\n",
       "      <th>VGRO.TO</th>\n",
       "    </tr>\n",
       "  </thead>\n",
       "  <tbody>\n",
       "    <tr>\n",
       "      <td>COF</td>\n",
       "      <td>0.053609</td>\n",
       "      <td>-0.005668</td>\n",
       "      <td>0.014988</td>\n",
       "      <td>0.023817</td>\n",
       "      <td>0.006967</td>\n",
       "      <td>0.018125</td>\n",
       "      <td>0.022179</td>\n",
       "      <td>0.018127</td>\n",
       "      <td>0.012502</td>\n",
       "    </tr>\n",
       "    <tr>\n",
       "      <td>GLD</td>\n",
       "      <td>-0.005668</td>\n",
       "      <td>0.011023</td>\n",
       "      <td>-0.000380</td>\n",
       "      <td>-0.003363</td>\n",
       "      <td>-0.001719</td>\n",
       "      <td>0.001056</td>\n",
       "      <td>-0.000745</td>\n",
       "      <td>-0.001822</td>\n",
       "      <td>-0.001444</td>\n",
       "    </tr>\n",
       "    <tr>\n",
       "      <td>RY</td>\n",
       "      <td>0.014988</td>\n",
       "      <td>-0.000380</td>\n",
       "      <td>0.016298</td>\n",
       "      <td>0.012900</td>\n",
       "      <td>0.005173</td>\n",
       "      <td>0.016789</td>\n",
       "      <td>0.011797</td>\n",
       "      <td>0.011214</td>\n",
       "      <td>0.006067</td>\n",
       "    </tr>\n",
       "    <tr>\n",
       "      <td>AAPL</td>\n",
       "      <td>0.023817</td>\n",
       "      <td>-0.003363</td>\n",
       "      <td>0.012900</td>\n",
       "      <td>0.061569</td>\n",
       "      <td>0.009884</td>\n",
       "      <td>0.024726</td>\n",
       "      <td>0.035478</td>\n",
       "      <td>0.037346</td>\n",
       "      <td>0.014241</td>\n",
       "    </tr>\n",
       "    <tr>\n",
       "      <td>FFH.TO</td>\n",
       "      <td>0.006967</td>\n",
       "      <td>-0.001719</td>\n",
       "      <td>0.005173</td>\n",
       "      <td>0.009884</td>\n",
       "      <td>0.039613</td>\n",
       "      <td>0.005541</td>\n",
       "      <td>0.004182</td>\n",
       "      <td>0.009472</td>\n",
       "      <td>0.004908</td>\n",
       "    </tr>\n",
       "    <tr>\n",
       "      <td>ACB</td>\n",
       "      <td>0.018125</td>\n",
       "      <td>0.001056</td>\n",
       "      <td>0.016789</td>\n",
       "      <td>0.024726</td>\n",
       "      <td>0.005541</td>\n",
       "      <td>0.617041</td>\n",
       "      <td>0.040318</td>\n",
       "      <td>0.045133</td>\n",
       "      <td>0.008601</td>\n",
       "    </tr>\n",
       "    <tr>\n",
       "      <td>TTWO</td>\n",
       "      <td>0.022179</td>\n",
       "      <td>-0.000745</td>\n",
       "      <td>0.011797</td>\n",
       "      <td>0.035478</td>\n",
       "      <td>0.004182</td>\n",
       "      <td>0.040318</td>\n",
       "      <td>0.125208</td>\n",
       "      <td>0.060291</td>\n",
       "      <td>0.015010</td>\n",
       "    </tr>\n",
       "    <tr>\n",
       "      <td>TEAM</td>\n",
       "      <td>0.018127</td>\n",
       "      <td>-0.001822</td>\n",
       "      <td>0.011214</td>\n",
       "      <td>0.037346</td>\n",
       "      <td>0.009472</td>\n",
       "      <td>0.045133</td>\n",
       "      <td>0.060291</td>\n",
       "      <td>0.164320</td>\n",
       "      <td>0.015537</td>\n",
       "    </tr>\n",
       "    <tr>\n",
       "      <td>VGRO.TO</td>\n",
       "      <td>0.012502</td>\n",
       "      <td>-0.001444</td>\n",
       "      <td>0.006067</td>\n",
       "      <td>0.014241</td>\n",
       "      <td>0.004908</td>\n",
       "      <td>0.008601</td>\n",
       "      <td>0.015010</td>\n",
       "      <td>0.015537</td>\n",
       "      <td>0.007501</td>\n",
       "    </tr>\n",
       "  </tbody>\n",
       "</table>\n",
       "</div>"
      ],
      "text/plain": [
       "              COF       GLD        RY      AAPL    FFH.TO       ACB      TTWO  \\\n",
       "COF      0.053609 -0.005668  0.014988  0.023817  0.006967  0.018125  0.022179   \n",
       "GLD     -0.005668  0.011023 -0.000380 -0.003363 -0.001719  0.001056 -0.000745   \n",
       "RY       0.014988 -0.000380  0.016298  0.012900  0.005173  0.016789  0.011797   \n",
       "AAPL     0.023817 -0.003363  0.012900  0.061569  0.009884  0.024726  0.035478   \n",
       "FFH.TO   0.006967 -0.001719  0.005173  0.009884  0.039613  0.005541  0.004182   \n",
       "ACB      0.018125  0.001056  0.016789  0.024726  0.005541  0.617041  0.040318   \n",
       "TTWO     0.022179 -0.000745  0.011797  0.035478  0.004182  0.040318  0.125208   \n",
       "TEAM     0.018127 -0.001822  0.011214  0.037346  0.009472  0.045133  0.060291   \n",
       "VGRO.TO  0.012502 -0.001444  0.006067  0.014241  0.004908  0.008601  0.015010   \n",
       "\n",
       "             TEAM   VGRO.TO  \n",
       "COF      0.018127  0.012502  \n",
       "GLD     -0.001822 -0.001444  \n",
       "RY       0.011214  0.006067  \n",
       "AAPL     0.037346  0.014241  \n",
       "FFH.TO   0.009472  0.004908  \n",
       "ACB      0.045133  0.008601  \n",
       "TTWO     0.060291  0.015010  \n",
       "TEAM     0.164320  0.015537  \n",
       "VGRO.TO  0.015537  0.007501  "
      ]
     },
     "execution_count": 37,
     "metadata": {},
     "output_type": "execute_result"
    }
   ],
   "source": [
    "cov_matrix=log_ret.cov()*250 #annualized\n",
    "cov_matrix"
   ]
  },
  {
   "cell_type": "markdown",
   "metadata": {},
   "source": [
    "# PF weights"
   ]
  },
  {
   "cell_type": "code",
   "execution_count": 22,
   "metadata": {},
   "outputs": [
    {
     "data": {
      "text/plain": [
       "array([0.28037383, 0.11214953, 0.09345794, 0.02803738, 0.11214953,\n",
       "       0.09345794, 0.11214953, 0.09345794, 0.07476636])"
      ]
     },
     "execution_count": 22,
     "metadata": {},
     "output_type": "execute_result"
    }
   ],
   "source": [
    "weights = np.array([15,6,5,1.5,6,5,6,5,4])\n",
    "weights = weights / np.sum(weights)\n",
    "weights"
   ]
  },
  {
   "cell_type": "markdown",
   "metadata": {},
   "source": [
    "# PF Return "
   ]
  },
  {
   "cell_type": "code",
   "execution_count": 38,
   "metadata": {},
   "outputs": [
    {
     "data": {
      "text/plain": [
       "array([            nan,             nan,             nan,             nan,\n",
       "                   nan,             nan,             nan,             nan,\n",
       "                   nan,             nan,             nan,             nan,\n",
       "                   nan,             nan,             nan,             nan,\n",
       "                   nan,             nan,             nan,             nan,\n",
       "                   nan,             nan,             nan,             nan,\n",
       "                   nan,             nan,             nan,             nan,\n",
       "                   nan,             nan,             nan,             nan,\n",
       "                   nan,             nan,             nan,             nan,\n",
       "                   nan,             nan,             nan,             nan,\n",
       "                   nan,             nan,             nan,             nan,\n",
       "                   nan,             nan,             nan,             nan,\n",
       "                   nan,             nan,             nan,             nan,\n",
       "                   nan,             nan,             nan,             nan,\n",
       "                   nan,             nan,             nan,             nan,\n",
       "                   nan,             nan,             nan,             nan,\n",
       "                   nan,             nan,             nan,             nan,\n",
       "                   nan,             nan,             nan,             nan,\n",
       "                   nan,             nan,             nan,             nan,\n",
       "                   nan,             nan,             nan,             nan,\n",
       "                   nan,             nan,             nan,             nan,\n",
       "                   nan,             nan,             nan,             nan,\n",
       "                   nan,             nan,             nan,             nan,\n",
       "                   nan,             nan,             nan,             nan,\n",
       "                   nan,             nan,             nan,             nan,\n",
       "                   nan,             nan,             nan,             nan,\n",
       "                   nan,             nan,             nan,             nan,\n",
       "                   nan,             nan,             nan,             nan,\n",
       "                   nan,             nan,             nan,             nan,\n",
       "                   nan,             nan,             nan,             nan,\n",
       "                   nan,             nan,             nan,             nan,\n",
       "                   nan,             nan,             nan,             nan,\n",
       "                   nan,             nan,             nan,             nan,\n",
       "                   nan,             nan,             nan,             nan,\n",
       "                   nan,             nan,             nan,             nan,\n",
       "                   nan,             nan,             nan,             nan,\n",
       "                   nan,             nan,             nan,             nan,\n",
       "                   nan,             nan,             nan,             nan,\n",
       "                   nan,             nan,             nan,             nan,\n",
       "                   nan,             nan,             nan,             nan,\n",
       "                   nan,             nan,             nan,             nan,\n",
       "                   nan,             nan,             nan,             nan,\n",
       "                   nan,             nan,             nan,             nan,\n",
       "                   nan,             nan,             nan,             nan,\n",
       "                   nan,             nan,             nan,             nan,\n",
       "                   nan,             nan,             nan,             nan,\n",
       "                   nan,             nan,             nan,             nan,\n",
       "                   nan,             nan,             nan,             nan,\n",
       "                   nan,             nan,             nan,             nan,\n",
       "                   nan,             nan,             nan,             nan,\n",
       "                   nan,             nan,             nan,             nan,\n",
       "                   nan,             nan,             nan,             nan,\n",
       "                   nan,             nan,             nan,             nan,\n",
       "                   nan,             nan,             nan,             nan,\n",
       "                   nan,             nan,             nan,             nan,\n",
       "                   nan,             nan,             nan,             nan,\n",
       "                   nan,             nan,             nan,             nan,\n",
       "                   nan,             nan,             nan,             nan,\n",
       "                   nan,             nan,             nan,             nan,\n",
       "                   nan,             nan,             nan,             nan,\n",
       "                   nan,             nan,             nan,             nan,\n",
       "                   nan,             nan,             nan,             nan,\n",
       "                   nan,             nan,             nan,             nan,\n",
       "                   nan,             nan,             nan,             nan,\n",
       "                   nan,             nan,             nan,             nan,\n",
       "                   nan,             nan,             nan,             nan,\n",
       "                   nan,             nan,             nan,             nan,\n",
       "                   nan,             nan,             nan,             nan,\n",
       "                   nan, -3.63454975e-02, -1.74958581e-02,  2.38034346e-02,\n",
       "       -6.32913429e-03, -4.25217049e-02,  1.29123458e-02,  1.74839043e-02,\n",
       "       -2.30048269e-03,  9.17252869e-03,  6.26658999e-03, -6.05186586e-03,\n",
       "        6.80144356e-03, -3.26256123e-04, -8.11376423e-03,  1.19205176e-02,\n",
       "        4.74925881e-03, -1.24647242e-02, -2.89894811e-03, -5.00830297e-03,\n",
       "        1.02365006e-02,  1.02703309e-02,  7.54325554e-03, -8.33064167e-03,\n",
       "        7.64330633e-03,  1.61987312e-02,  1.64424499e-03, -1.41928451e-02,\n",
       "       -1.03738765e-02, -1.93381263e-03, -1.90237409e-04, -8.75905950e-03,\n",
       "       -2.34287681e-03, -2.77585667e-03, -2.30941315e-02, -1.05477180e-02,\n",
       "        1.78602129e-02, -2.25251069e-02, -7.51059763e-03,  1.54684312e-02,\n",
       "       -1.44042572e-02, -6.63974551e-03,  5.19273013e-03,  1.72873923e-02,\n",
       "       -2.18073652e-02,  3.23799918e-03,  1.35783955e-02, -1.62081863e-03,\n",
       "        9.77629636e-03,  6.15112500e-03,  6.94948942e-03,  3.41403274e-03,\n",
       "        1.87038090e-03,  3.74159448e-04, -1.40843595e-02, -6.88881436e-03,\n",
       "       -3.64229215e-03, -2.25846235e-02,  4.84264881e-03,  2.33845087e-03,\n",
       "        8.60303225e-04,  2.86933041e-04,  6.72790535e-05,  2.23622687e-03,\n",
       "        1.05299817e-02,  7.47054567e-03,  2.35040486e-03,  1.60566559e-02,\n",
       "        7.73395428e-03,  1.12500899e-05, -5.27862196e-03, -1.08989358e-03,\n",
       "       -7.12975341e-04, -2.67845484e-04,  1.02066843e-02,             nan,\n",
       "                   nan, -2.55491686e-03, -4.10107518e-03, -9.00430604e-03,\n",
       "       -1.53108265e-02,  1.02183858e-02,  5.10708170e-03,  4.56791302e-03,\n",
       "        1.64271712e-03,  8.74915600e-03,  1.84925319e-02, -2.08400046e-03,\n",
       "       -2.09203065e-03, -7.54684477e-03,  6.01038568e-03,  4.70634390e-03,\n",
       "        4.08678723e-03,  2.13458215e-03,  7.20873790e-04, -8.15302876e-03,\n",
       "        1.46332254e-03,  3.24980062e-04, -3.90930453e-03, -1.26994405e-02,\n",
       "       -4.51507468e-03, -1.58894263e-02,  1.03411844e-02,  2.82263058e-04,\n",
       "                   nan,             nan,  8.30802358e-04,  6.33811485e-03,\n",
       "        9.73045597e-03, -3.41724932e-03, -5.26995393e-03,  9.90791171e-03,\n",
       "       -6.77478454e-03, -2.99625038e-03, -3.95641452e-03,  3.05001464e-03,\n",
       "       -9.82984757e-03,  6.61730057e-03,  8.54050541e-03, -1.29366140e-02,\n",
       "        6.09543897e-03, -1.08912181e-02,  7.29078262e-04, -1.57330729e-02,\n",
       "        9.61305012e-03,  2.56905761e-04,  2.79635286e-03,  9.37836093e-03,\n",
       "                   nan,             nan,  9.06960121e-03,  3.30907589e-03,\n",
       "       -6.52374928e-03, -6.11167133e-03,  6.71646863e-04,  8.25534545e-03,\n",
       "        4.03239921e-03,  7.80634750e-03,  1.67669302e-02,  9.89735713e-03,\n",
       "        3.13537850e-03, -4.02726586e-04,  1.62159819e-02,  1.15428141e-02,\n",
       "       -7.44069124e-03,  1.03510316e-02, -6.53721450e-03, -2.88977438e-03,\n",
       "        3.81330894e-03, -1.46842130e-02, -8.75874845e-03, -2.03161104e-03,\n",
       "        8.20858139e-04,  1.68988950e-02, -2.20120464e-03, -3.67235291e-03,\n",
       "        3.63583879e-03,  6.98248587e-03,  1.40875602e-02, -1.21806418e-03,\n",
       "        1.57245439e-02, -5.71148616e-03,  5.93050193e-03,  4.57092479e-03,\n",
       "       -7.00657104e-03, -4.54557453e-03,  5.83361473e-03, -1.53130336e-03,\n",
       "       -5.52745394e-03,  8.48114909e-03, -1.63479538e-02,  9.18683093e-04,\n",
       "                   nan,             nan, -2.57320931e-02, -1.40418975e-02,\n",
       "        1.88078727e-02,  4.40354809e-03,  6.68800200e-03, -4.10103408e-03,\n",
       "       -1.02124016e-02, -2.14660199e-02, -2.63361825e-02, -1.62778421e-02,\n",
       "       -3.16847881e-02,  2.57001270e-02, -1.70951001e-02, -2.25050967e-02,\n",
       "        2.47103237e-02,  2.76571818e-02,  6.19717233e-04, -8.17038564e-03,\n",
       "        3.77024207e-03, -8.28296379e-05,  2.33693937e-02, -1.39312603e-02,\n",
       "       -1.62082286e-02, -2.02008630e-02, -1.04013356e-03, -1.35424424e-02,\n",
       "        1.88441627e-02, -4.84351085e-03, -2.43120621e-02, -1.08522201e-02,\n",
       "        1.09872603e-02, -3.26207497e-03,  6.99516911e-03, -4.42643492e-03,\n",
       "        2.99412687e-02, -4.54632094e-03,  5.40350744e-03,  4.58096797e-03,\n",
       "       -3.26277089e-02, -3.36890132e-03, -1.10673588e-02,  2.74789014e-03,\n",
       "       -2.73106392e-03,  8.39489608e-03, -1.27465015e-02, -1.12830579e-02,\n",
       "       -2.07036388e-02, -1.94242452e-03, -1.18066865e-02, -9.21654589e-04,\n",
       "       -2.20348103e-02, -7.74558699e-03,             nan,             nan,\n",
       "        1.19629358e-03,  1.61844656e-03,  1.35939486e-02, -2.34140452e-02,\n",
       "        2.54977950e-02,  8.77154212e-03,  6.32657798e-03,  1.37734266e-02,\n",
       "        8.63057029e-03,  1.01008913e-02,  4.30773314e-03,  6.09503687e-03,\n",
       "        1.44575577e-02, -1.12200444e-02,  4.08015319e-03, -9.70550417e-03,\n",
       "       -2.39121207e-02,  1.42702298e-02,  9.08747687e-03,  1.32280046e-03,\n",
       "       -3.32736251e-03,  1.28031321e-02,  7.23257678e-03,  3.70416872e-03,\n",
       "        1.65463419e-02,  3.43632363e-03, -2.27827518e-02,  4.79978465e-04,\n",
       "       -3.20520717e-03, -1.07142280e-02,  5.61154976e-03,  3.04891503e-03,\n",
       "       -4.78348155e-03,  1.32515714e-02,  4.27970334e-04,  3.50950573e-03,\n",
       "       -8.96486281e-03, -1.37715365e-03,  7.79688299e-03,  3.39210791e-03,\n",
       "       -1.91171713e-03,  7.18926199e-03,  1.57362430e-03, -1.26435565e-02,\n",
       "        8.10058381e-03, -3.67116685e-03, -8.76316970e-03,  2.09918807e-03,\n",
       "        1.69950201e-02,  2.95141625e-03,  1.86110935e-02, -7.32022143e-03,\n",
       "        1.14897114e-02,  6.95703243e-03,  3.70348619e-04, -6.13856218e-03,\n",
       "        4.36632527e-03, -2.64484207e-02,  1.07901158e-03,  5.24842153e-03,\n",
       "       -1.31173389e-02,  6.61817578e-03,  8.48282151e-03,  1.43039648e-02,\n",
       "        4.82015865e-03,  1.16919346e-03, -6.03546264e-03,  5.51568025e-03,\n",
       "       -1.92388258e-03, -7.46135018e-03,  1.12437791e-02, -8.90833206e-04,\n",
       "        2.38648967e-03, -6.06247602e-03,  3.90909061e-03,  9.27807408e-04,\n",
       "       -5.14264626e-03,  1.99844063e-03,  5.30725516e-03, -3.58066893e-03,\n",
       "        1.75030051e-03,  2.55717795e-02, -2.19564957e-04,  1.75925191e-03,\n",
       "        3.60129650e-04, -1.13714300e-03,  8.33560527e-03, -7.09125001e-04,\n",
       "       -1.44526093e-02,  1.66959800e-03,  3.35537147e-03,  3.82250186e-03,\n",
       "       -2.42471018e-02,  1.65387259e-02,  9.60299195e-03,  9.41124033e-03,\n",
       "       -7.18149033e-03,             nan,             nan, -2.46088224e-03,\n",
       "       -1.35403341e-02,  9.11810344e-03, -4.04955271e-03, -4.89799806e-03,\n",
       "       -1.71459093e-03, -1.24770783e-02, -8.79373416e-03,  2.93010008e-02,\n",
       "        5.23360149e-03,  1.40228942e-03,  6.81268690e-03,  4.24722414e-03,\n",
       "       -2.21987369e-03, -5.28188588e-03,  4.13579536e-03, -2.88615116e-03,\n",
       "        1.97958345e-04,  7.75070375e-03,  8.44937304e-04,  1.06915718e-02,\n",
       "       -2.70546651e-03, -5.70608282e-03, -6.57396280e-03,  5.33359697e-03,\n",
       "        5.25999663e-03,  3.40051762e-03,             nan,             nan,\n",
       "        1.08571431e-02, -4.89864936e-03, -7.53030724e-03,  3.88896090e-03,\n",
       "       -1.52143949e-03, -4.37386914e-03, -6.65949447e-03,  1.59069650e-03,\n",
       "       -8.18634049e-04, -9.52213603e-04, -2.47516726e-03, -9.85941890e-04,\n",
       "        3.70474449e-03,  7.15508225e-03,  9.06502153e-03, -6.30622733e-03,\n",
       "        1.62247159e-02, -8.25067200e-03, -1.92021576e-02,  2.90451065e-03,\n",
       "       -7.79790050e-03,  9.56706309e-04,             nan,             nan,\n",
       "        7.61694605e-03,  1.03738572e-02, -8.39191572e-03, -1.00504025e-02,\n",
       "        1.00879183e-02, -3.38526903e-02, -5.96261012e-03,  1.67879082e-02,\n",
       "        4.01854992e-03, -2.98412086e-03,  5.76906682e-03, -4.24517946e-03,\n",
       "       -1.86028652e-02,  1.04969916e-02, -6.99286936e-03,  4.96186310e-03,\n",
       "        7.78716544e-03, -2.70132435e-03, -5.39936976e-03,  4.05473914e-03,\n",
       "        1.33514285e-02,  7.07011319e-04,  5.17105556e-03,  9.57539353e-04,\n",
       "        2.66883901e-03, -6.45890869e-04,  2.63003954e-03, -8.89563623e-04,\n",
       "        8.64034875e-04, -6.98349330e-04, -1.09300108e-03, -2.28067914e-03,\n",
       "       -2.86280036e-03, -1.79359531e-02, -2.22664105e-04, -4.29673755e-05,\n",
       "       -9.69478127e-03, -3.49282000e-03, -1.80801186e-02, -1.54642589e-02,\n",
       "        1.37099396e-02,  9.75929749e-03, -9.06462996e-03, -1.97147453e-02,\n",
       "        8.34163298e-03, -5.24165630e-03,  8.22307207e-03,             nan,\n",
       "                   nan, -1.14883351e-02,  6.27467333e-03, -9.41879572e-03,\n",
       "        5.64166494e-03, -6.27021061e-03,  4.08969894e-03,  7.26298328e-03,\n",
       "        7.25794306e-03,  2.34898825e-03, -4.83872554e-03,  7.92807113e-03,\n",
       "       -8.43409246e-03,  8.94274332e-03,  7.05542433e-04,  3.57362967e-03,\n",
       "        2.52035479e-03,  8.95191150e-05,  8.32436278e-03, -4.10660355e-03,\n",
       "       -1.03706787e-03,  1.00934473e-03, -5.56800478e-03, -1.18193810e-02,\n",
       "       -1.66530887e-02,  3.89016737e-03,  7.86823814e-03,  1.43523432e-02,\n",
       "       -1.17713486e-02, -1.27392091e-04, -2.97018663e-03,  8.53756573e-03,\n",
       "       -2.94681801e-03])"
      ]
     },
     "execution_count": 38,
     "metadata": {},
     "output_type": "execute_result"
    }
   ],
   "source": [
    "np.dot(log_ret, weights) # calculate matrix and vector "
   ]
  },
  {
   "cell_type": "code",
   "execution_count": 54,
   "metadata": {},
   "outputs": [
    {
     "data": {
      "text/plain": [
       "COF        0.060513\n",
       "GLD        0.075647\n",
       "RY         0.106210\n",
       "AAPL       0.300229\n",
       "FFH.TO    -0.003053\n",
       "ACB        0.116010\n",
       "TTWO       0.308189\n",
       "TEAM       0.560897\n",
       "VGRO.TO    0.047345\n",
       "dtype: float64"
      ]
     },
     "execution_count": 54,
     "metadata": {},
     "output_type": "execute_result"
    }
   ],
   "source": [
    "annual_returns = log_ret.mean() * 250\n",
    "annual_returns"
   ]
  },
  {
   "cell_type": "code",
   "execution_count": 55,
   "metadata": {},
   "outputs": [
    {
     "data": {
      "text/plain": [
       "0.144816873314421"
      ]
     },
     "execution_count": 55,
     "metadata": {},
     "output_type": "execute_result"
    }
   ],
   "source": [
    "np.dot(annual_returns, weights)"
   ]
  },
  {
   "cell_type": "code",
   "execution_count": 56,
   "metadata": {},
   "outputs": [
    {
     "name": "stdout",
     "output_type": "stream",
     "text": [
      "14.482000000000001 %\n"
     ]
    }
   ],
   "source": [
    "pfolio = str(round(np.dot(annual_returns, weights), 5) * 100) + ' %'\n",
    "print (pfolio)\n"
   ]
  },
  {
   "cell_type": "markdown",
   "metadata": {},
   "source": [
    "# Calculating Portfolio Risk "
   ]
  },
  {
   "cell_type": "code",
   "execution_count": 41,
   "metadata": {},
   "outputs": [
    {
     "data": {
      "text/plain": [
       "0.024068528827506597"
      ]
     },
     "execution_count": 41,
     "metadata": {},
     "output_type": "execute_result"
    }
   ],
   "source": [
    "pfolio_var = np.dot(weights.T, np.dot(log_ret.cov() * 250, weights))\n",
    "pfolio_var"
   ]
  },
  {
   "cell_type": "code",
   "execution_count": 42,
   "metadata": {},
   "outputs": [
    {
     "data": {
      "text/plain": [
       "0.15514035202843454"
      ]
     },
     "execution_count": 42,
     "metadata": {},
     "output_type": "execute_result"
    }
   ],
   "source": [
    "pfolio_vol = (np.dot(weights.T, np.dot(log_ret.cov() * 250, weights))) ** 0.5\n",
    "pfolio_vol"
   ]
  },
  {
   "cell_type": "code",
   "execution_count": 43,
   "metadata": {},
   "outputs": [
    {
     "name": "stdout",
     "output_type": "stream",
     "text": [
      "15.514 %\n"
     ]
    }
   ],
   "source": [
    "print (str(round(pfolio_vol, 5) * 100) + ' %')"
   ]
  },
  {
   "cell_type": "markdown",
   "metadata": {},
   "source": [
    "# Portfolio Optimization"
   ]
  },
  {
   "cell_type": "markdown",
   "metadata": {},
   "source": [
    "## Correlations"
   ]
  },
  {
   "cell_type": "code",
   "execution_count": 58,
   "metadata": {},
   "outputs": [
    {
     "data": {
      "text/html": [
       "<div>\n",
       "<style scoped>\n",
       "    .dataframe tbody tr th:only-of-type {\n",
       "        vertical-align: middle;\n",
       "    }\n",
       "\n",
       "    .dataframe tbody tr th {\n",
       "        vertical-align: top;\n",
       "    }\n",
       "\n",
       "    .dataframe thead th {\n",
       "        text-align: right;\n",
       "    }\n",
       "</style>\n",
       "<table border=\"1\" class=\"dataframe\">\n",
       "  <thead>\n",
       "    <tr style=\"text-align: right;\">\n",
       "      <th></th>\n",
       "      <th>COF</th>\n",
       "      <th>GLD</th>\n",
       "      <th>RY</th>\n",
       "      <th>AAPL</th>\n",
       "      <th>FFH.TO</th>\n",
       "      <th>ACB</th>\n",
       "      <th>TTWO</th>\n",
       "      <th>TEAM</th>\n",
       "      <th>VGRO.TO</th>\n",
       "    </tr>\n",
       "  </thead>\n",
       "  <tbody>\n",
       "    <tr>\n",
       "      <td>COF</td>\n",
       "      <td>1.000000</td>\n",
       "      <td>-0.233148</td>\n",
       "      <td>0.507054</td>\n",
       "      <td>0.414565</td>\n",
       "      <td>0.151252</td>\n",
       "      <td>0.099656</td>\n",
       "      <td>0.270707</td>\n",
       "      <td>0.193137</td>\n",
       "      <td>0.585273</td>\n",
       "    </tr>\n",
       "    <tr>\n",
       "      <td>GLD</td>\n",
       "      <td>-0.233148</td>\n",
       "      <td>1.000000</td>\n",
       "      <td>-0.028361</td>\n",
       "      <td>-0.129084</td>\n",
       "      <td>-0.083401</td>\n",
       "      <td>0.012810</td>\n",
       "      <td>-0.020042</td>\n",
       "      <td>-0.042814</td>\n",
       "      <td>-0.155765</td>\n",
       "    </tr>\n",
       "    <tr>\n",
       "      <td>RY</td>\n",
       "      <td>0.507054</td>\n",
       "      <td>-0.028361</td>\n",
       "      <td>1.000000</td>\n",
       "      <td>0.407227</td>\n",
       "      <td>0.204277</td>\n",
       "      <td>0.167423</td>\n",
       "      <td>0.261162</td>\n",
       "      <td>0.216694</td>\n",
       "      <td>0.526911</td>\n",
       "    </tr>\n",
       "    <tr>\n",
       "      <td>AAPL</td>\n",
       "      <td>0.414565</td>\n",
       "      <td>-0.129084</td>\n",
       "      <td>0.407227</td>\n",
       "      <td>1.000000</td>\n",
       "      <td>0.202805</td>\n",
       "      <td>0.126855</td>\n",
       "      <td>0.404078</td>\n",
       "      <td>0.371291</td>\n",
       "      <td>0.590015</td>\n",
       "    </tr>\n",
       "    <tr>\n",
       "      <td>FFH.TO</td>\n",
       "      <td>0.151252</td>\n",
       "      <td>-0.083401</td>\n",
       "      <td>0.204277</td>\n",
       "      <td>0.202805</td>\n",
       "      <td>1.000000</td>\n",
       "      <td>0.035313</td>\n",
       "      <td>0.060133</td>\n",
       "      <td>0.117455</td>\n",
       "      <td>0.271757</td>\n",
       "    </tr>\n",
       "    <tr>\n",
       "      <td>ACB</td>\n",
       "      <td>0.099656</td>\n",
       "      <td>0.012810</td>\n",
       "      <td>0.167423</td>\n",
       "      <td>0.126855</td>\n",
       "      <td>0.035313</td>\n",
       "      <td>1.000000</td>\n",
       "      <td>0.145054</td>\n",
       "      <td>0.141740</td>\n",
       "      <td>0.125058</td>\n",
       "    </tr>\n",
       "    <tr>\n",
       "      <td>TTWO</td>\n",
       "      <td>0.270707</td>\n",
       "      <td>-0.020042</td>\n",
       "      <td>0.261162</td>\n",
       "      <td>0.404078</td>\n",
       "      <td>0.060133</td>\n",
       "      <td>0.145054</td>\n",
       "      <td>1.000000</td>\n",
       "      <td>0.420332</td>\n",
       "      <td>0.460076</td>\n",
       "    </tr>\n",
       "    <tr>\n",
       "      <td>TEAM</td>\n",
       "      <td>0.193137</td>\n",
       "      <td>-0.042814</td>\n",
       "      <td>0.216694</td>\n",
       "      <td>0.371291</td>\n",
       "      <td>0.117455</td>\n",
       "      <td>0.141740</td>\n",
       "      <td>0.420332</td>\n",
       "      <td>1.000000</td>\n",
       "      <td>0.418234</td>\n",
       "    </tr>\n",
       "    <tr>\n",
       "      <td>VGRO.TO</td>\n",
       "      <td>0.585273</td>\n",
       "      <td>-0.155765</td>\n",
       "      <td>0.526911</td>\n",
       "      <td>0.590015</td>\n",
       "      <td>0.271757</td>\n",
       "      <td>0.125058</td>\n",
       "      <td>0.460076</td>\n",
       "      <td>0.418234</td>\n",
       "      <td>1.000000</td>\n",
       "    </tr>\n",
       "  </tbody>\n",
       "</table>\n",
       "</div>"
      ],
      "text/plain": [
       "              COF       GLD        RY      AAPL    FFH.TO       ACB      TTWO  \\\n",
       "COF      1.000000 -0.233148  0.507054  0.414565  0.151252  0.099656  0.270707   \n",
       "GLD     -0.233148  1.000000 -0.028361 -0.129084 -0.083401  0.012810 -0.020042   \n",
       "RY       0.507054 -0.028361  1.000000  0.407227  0.204277  0.167423  0.261162   \n",
       "AAPL     0.414565 -0.129084  0.407227  1.000000  0.202805  0.126855  0.404078   \n",
       "FFH.TO   0.151252 -0.083401  0.204277  0.202805  1.000000  0.035313  0.060133   \n",
       "ACB      0.099656  0.012810  0.167423  0.126855  0.035313  1.000000  0.145054   \n",
       "TTWO     0.270707 -0.020042  0.261162  0.404078  0.060133  0.145054  1.000000   \n",
       "TEAM     0.193137 -0.042814  0.216694  0.371291  0.117455  0.141740  0.420332   \n",
       "VGRO.TO  0.585273 -0.155765  0.526911  0.590015  0.271757  0.125058  0.460076   \n",
       "\n",
       "             TEAM   VGRO.TO  \n",
       "COF      0.193137  0.585273  \n",
       "GLD     -0.042814 -0.155765  \n",
       "RY       0.216694  0.526911  \n",
       "AAPL     0.371291  0.590015  \n",
       "FFH.TO   0.117455  0.271757  \n",
       "ACB      0.141740  0.125058  \n",
       "TTWO     0.420332  0.460076  \n",
       "TEAM     1.000000  0.418234  \n",
       "VGRO.TO  0.418234  1.000000  "
      ]
     },
     "execution_count": 58,
     "metadata": {},
     "output_type": "execute_result"
    }
   ],
   "source": [
    "log_ret.corr()"
   ]
  },
  {
   "cell_type": "code",
   "execution_count": 61,
   "metadata": {},
   "outputs": [
    {
     "data": {
      "text/plain": [
       "9"
      ]
     },
     "execution_count": 61,
     "metadata": {},
     "output_type": "execute_result"
    }
   ],
   "source": [
    "num_assets = len(tickers)\n",
    "num_assets"
   ]
  },
  {
   "cell_type": "markdown",
   "metadata": {},
   "source": [
    "## Develop Random Weights "
   ]
  },
  {
   "cell_type": "code",
   "execution_count": 64,
   "metadata": {},
   "outputs": [
    {
     "data": {
      "text/plain": [
       "array([0.03244221, 0.19934239, 0.07643047, 0.25117967, 0.24457575,\n",
       "       0.03146883, 0.03840953, 0.10497271, 0.02117844])"
      ]
     },
     "execution_count": 64,
     "metadata": {},
     "output_type": "execute_result"
    }
   ],
   "source": [
    "rand_weights = np.random.random(num_assets)\n",
    "rand_weights /= np.sum(rand_weights)\n",
    "rand_weights"
   ]
  },
  {
   "cell_type": "code",
   "execution_count": null,
   "metadata": {},
   "outputs": [],
   "source": [
    "np.sum(rand_weights)"
   ]
  },
  {
   "cell_type": "markdown",
   "metadata": {},
   "source": [
    "## Expected Portfolio Return"
   ]
  },
  {
   "cell_type": "code",
   "execution_count": 66,
   "metadata": {},
   "outputs": [
    {
     "data": {
      "text/plain": [
       "0.17519490107588495"
      ]
     },
     "execution_count": 66,
     "metadata": {},
     "output_type": "execute_result"
    }
   ],
   "source": [
    "np.sum(rand_weights*log_ret.mean()*250)"
   ]
  },
  {
   "cell_type": "markdown",
   "metadata": {},
   "source": [
    "## Expected Portfolio Var"
   ]
  },
  {
   "cell_type": "code",
   "execution_count": 67,
   "metadata": {},
   "outputs": [
    {
     "data": {
      "text/plain": [
       "0.01672050191083491"
      ]
     },
     "execution_count": 67,
     "metadata": {},
     "output_type": "execute_result"
    }
   ],
   "source": [
    "np.dot(rand_weights.T, np.dot(log_ret.cov() * 250, rand_weights))"
   ]
  },
  {
   "cell_type": "markdown",
   "metadata": {},
   "source": [
    "## Expected Portfolio Vol"
   ]
  },
  {
   "cell_type": "code",
   "execution_count": 68,
   "metadata": {
    "scrolled": true
   },
   "outputs": [
    {
     "data": {
      "text/plain": [
       "0.12930777977691407"
      ]
     },
     "execution_count": 68,
     "metadata": {},
     "output_type": "execute_result"
    }
   ],
   "source": [
    "np.sqrt(np.dot(rand_weights.T,np.dot(log_ret.cov() * 250, rand_weights)))"
   ]
  },
  {
   "cell_type": "markdown",
   "metadata": {},
   "source": [
    "# Function for Monte Carlo Simulation"
   ]
  },
  {
   "cell_type": "code",
   "execution_count": 80,
   "metadata": {},
   "outputs": [
    {
     "data": {
      "text/plain": [
       "(array([0.13181131, 0.18233269, 0.12929651, ..., 0.20096395, 0.17437603,\n",
       "        0.19697104]),\n",
       " array([0.11522968, 0.14216597, 0.18855022, ..., 0.22072441, 0.20955993,\n",
       "        0.17621516]))"
      ]
     },
     "execution_count": 80,
     "metadata": {},
     "output_type": "execute_result"
    }
   ],
   "source": [
    "pfolio_returns = []\n",
    "pfolio_volatilities = []\n",
    "\n",
    "for x in range (100000):\n",
    "    rand_weights = np.random.random(num_assets)\n",
    "    rand_weights /= np.sum(rand_weights)\n",
    "    pfolio_returns.append(np.sum(rand_weights * log_ret.mean()) * 250)\n",
    "    pfolio_volatilities.append(np.sqrt(np.dot(rand_weights.T,np.dot(log_ret.cov() * 250, rand_weights))))\n",
    "\n",
    "pfolio_returns = np.array(pfolio_returns)\n",
    "pfolio_volatilities = np.array(pfolio_volatilities)    \n",
    "    \n",
    "pfolio_returns, pfolio_volatilities"
   ]
  },
  {
   "cell_type": "code",
   "execution_count": 81,
   "metadata": {},
   "outputs": [],
   "source": [
    "portfolios = pd.DataFrame({'Return': pfolio_returns, 'Volatility': pfolio_volatilities})"
   ]
  },
  {
   "cell_type": "code",
   "execution_count": 82,
   "metadata": {},
   "outputs": [
    {
     "data": {
      "text/html": [
       "<div>\n",
       "<style scoped>\n",
       "    .dataframe tbody tr th:only-of-type {\n",
       "        vertical-align: middle;\n",
       "    }\n",
       "\n",
       "    .dataframe tbody tr th {\n",
       "        vertical-align: top;\n",
       "    }\n",
       "\n",
       "    .dataframe thead th {\n",
       "        text-align: right;\n",
       "    }\n",
       "</style>\n",
       "<table border=\"1\" class=\"dataframe\">\n",
       "  <thead>\n",
       "    <tr style=\"text-align: right;\">\n",
       "      <th></th>\n",
       "      <th>Return</th>\n",
       "      <th>Volatility</th>\n",
       "    </tr>\n",
       "  </thead>\n",
       "  <tbody>\n",
       "    <tr>\n",
       "      <td>0</td>\n",
       "      <td>0.131811</td>\n",
       "      <td>0.115230</td>\n",
       "    </tr>\n",
       "    <tr>\n",
       "      <td>1</td>\n",
       "      <td>0.182333</td>\n",
       "      <td>0.142166</td>\n",
       "    </tr>\n",
       "    <tr>\n",
       "      <td>2</td>\n",
       "      <td>0.129297</td>\n",
       "      <td>0.188550</td>\n",
       "    </tr>\n",
       "    <tr>\n",
       "      <td>3</td>\n",
       "      <td>0.102298</td>\n",
       "      <td>0.123793</td>\n",
       "    </tr>\n",
       "    <tr>\n",
       "      <td>4</td>\n",
       "      <td>0.168574</td>\n",
       "      <td>0.185950</td>\n",
       "    </tr>\n",
       "  </tbody>\n",
       "</table>\n",
       "</div>"
      ],
      "text/plain": [
       "     Return  Volatility\n",
       "0  0.131811    0.115230\n",
       "1  0.182333    0.142166\n",
       "2  0.129297    0.188550\n",
       "3  0.102298    0.123793\n",
       "4  0.168574    0.185950"
      ]
     },
     "execution_count": 82,
     "metadata": {},
     "output_type": "execute_result"
    }
   ],
   "source": [
    "portfolios.head()"
   ]
  },
  {
   "cell_type": "code",
   "execution_count": 83,
   "metadata": {},
   "outputs": [
    {
     "data": {
      "text/plain": [
       "Text(0, 0.5, 'Expected Return')"
      ]
     },
     "execution_count": 83,
     "metadata": {},
     "output_type": "execute_result"
    },
    {
     "data": {
      "image/png": "[encoded data removed]",
      "text/plain": [
       "<Figure size 720x432 with 1 Axes>"
      ]
     },
     "metadata": {
      "needs_background": "light"
     },
     "output_type": "display_data"
    }
   ],
   "source": [
    "portfolios.plot(x='Volatility', y='Return', kind='scatter', figsize=(10, 6));\n",
    "plt.xlabel('Expected Volatility')\n",
    "plt.ylabel('Expected Return')"
   ]
  },
  {
   "cell_type": "code",
   "execution_count": null,
   "metadata": {},
   "outputs": [],
   "source": []
  }
 ],
 "metadata": {
  "kernelspec": {
   "display_name": "Python 3",
   "language": "python",
   "name": "python3"
  },
  "language_info": {
   "codemirror_mode": {
    "name": "ipython",
    "version": 3
   },
   "file_extension": ".py",
   "mimetype": "text/x-python",
   "name": "python",
   "nbconvert_exporter": "python",
   "pygments_lexer": "ipython3",
   "version": "3.7.4"
  }
 },
 "nbformat": 4,
 "nbformat_minor": 2
}
